{
 "cells": [
  {
   "cell_type": "code",
   "execution_count": 1,
   "metadata": {},
   "outputs": [],
   "source": [
    "from pyspark.sql.functions import col\n",
    "from pyspark.sql import SparkSession\n",
    "from pyspark.sql.types import StructType, StructField, IntegerType, StringType, DoubleType, DateType"
   ]
  },
  {
   "cell_type": "code",
   "execution_count": null,
   "metadata": {},
   "outputs": [],
   "source": [
    "spark = SparkSession.builder \\\n",
    "    .appName(\"F1 Data Pipeline\") \\\n",
    "    .config(\"spark.ui.port\", \"4040\") \\\n",
    "    .config(\"spark.jars\", \"file:///C:/spark/spark-3.5.1-bin-hadoop3/jars/gcs-connector-hadoop3-latest.jar\") \\\n",
    "    .getOrCreate()\n",
    "\n",
    "# Set GCS authentication and filesystem implementation\n",
    "spark.conf.set(\"spark.hadoop.fs.gs.impl\", \"com.google.cloud.hadoop.fs.gcs.GoogleHadoopFileSystem\")\n",
    "spark.conf.set(\"spark.hadoop.fs.AbstractFileSystem.gs.impl\", \"com.google.cloud.hadoop.fs.gcs.GoogleHadoopFS\")\n",
    "spark.conf.set(\"google.cloud.auth.service.account.enable\", \"true\")\n",
    "spark.conf.set(\"google.cloud.auth.service.account.json.keyfile\", \"path/to/service-account-file.json\")\n"
   ]
  },
  {
   "cell_type": "code",
   "execution_count": 3,
   "metadata": {},
   "outputs": [],
   "source": [
    "# Define the schema for the nested \"Location\" field\n",
    "location_schema = StructType(fields=[StructField(\"lat\", StringType(), True),\n",
    "                                     StructField(\"long\", StringType(), True),\n",
    "                                     StructField(\"locality\", StringType(), True),\n",
    "                                     StructField(\"country\", StringType(), True)\n",
    "])\n",
    "\n",
    "circuits_schema = StructType(fields=[StructField(\"circuitId\", StringType(), True),\n",
    "                                     StructField(\"url\", StringType(), True),\n",
    "                                     StructField(\"circuitName\", StringType(), True),\n",
    "                                     StructField(\"Location\", location_schema)  # Nested schema\n",
    "])\n",
    "\n",
    "races_schema = StructType(fields=[StructField(\"season\", StringType(), False),\n",
    "                                     StructField(\"round\", StringType(), True),\n",
    "                                     StructField(\"url\", StringType(), True),\n",
    "                                     StructField(\"raceName\", StringType(), True),  # Nested schema\n",
    "                                     StructField(\"Circuit\", circuits_schema),  # Nested schema\n",
    "                                     StructField(\"date\", StringType(), True)\n",
    "])"
   ]
  },
  {
   "cell_type": "code",
   "execution_count": 4,
   "metadata": {},
   "outputs": [],
   "source": [
    "races_df = spark.read \\\n",
    ".schema(races_schema) \\\n",
    ".option(\"multiLine\", True) \\\n",
    ".json(\"gs://f1-gcp/raw/races.json\")"
   ]
  },
  {
   "cell_type": "code",
   "execution_count": 5,
   "metadata": {},
   "outputs": [
    {
     "name": "stdout",
     "output_type": "stream",
     "text": [
      "root\n",
      " |-- season: string (nullable = true)\n",
      " |-- round: string (nullable = true)\n",
      " |-- url: string (nullable = true)\n",
      " |-- raceName: string (nullable = true)\n",
      " |-- Circuit: struct (nullable = true)\n",
      " |    |-- circuitId: string (nullable = true)\n",
      " |    |-- url: string (nullable = true)\n",
      " |    |-- circuitName: string (nullable = true)\n",
      " |    |-- Location: struct (nullable = true)\n",
      " |    |    |-- lat: string (nullable = true)\n",
      " |    |    |-- long: string (nullable = true)\n",
      " |    |    |-- locality: string (nullable = true)\n",
      " |    |    |-- country: string (nullable = true)\n",
      " |-- date: string (nullable = true)\n",
      "\n",
      "+------+-----+-----------------------------------------------------+------------------+---------------------------------------------------------------------------------------------------------------------------------------------+----------+\n",
      "|season|round|url                                                  |raceName          |Circuit                                                                                                                                      |date      |\n",
      "+------+-----+-----------------------------------------------------+------------------+---------------------------------------------------------------------------------------------------------------------------------------------+----------+\n",
      "|1950  |1    |https://en.wikipedia.org/wiki/1950_British_Grand_Prix|British Grand Prix|{silverstone, https://en.wikipedia.org/wiki/Silverstone_Circuit, Silverstone Circuit, {52.0786, -1.01694, Silverstone, UK}}                  |1950-05-13|\n",
      "|1950  |2    |https://en.wikipedia.org/wiki/1950_Monaco_Grand_Prix |Monaco Grand Prix |{monaco, https://en.wikipedia.org/wiki/Circuit_de_Monaco, Circuit de Monaco, {43.7347, 7.42056, Monte-Carlo, Monaco}}                        |1950-05-21|\n",
      "|1950  |3    |https://en.wikipedia.org/wiki/1950_Indianapolis_500  |Indianapolis 500  |{indianapolis, https://en.wikipedia.org/wiki/Indianapolis_Motor_Speedway, Indianapolis Motor Speedway, {39.795, -86.2347, Indianapolis, USA}}|1950-05-30|\n",
      "|1950  |4    |https://en.wikipedia.org/wiki/1950_Swiss_Grand_Prix  |Swiss Grand Prix  |{bremgarten, https://en.wikipedia.org/wiki/Circuit_Bremgarten, Circuit Bremgarten, {46.9589, 7.40194, Bern, Switzerland}}                    |1950-06-04|\n",
      "|1950  |5    |https://en.wikipedia.org/wiki/1950_Belgian_Grand_Prix|Belgian Grand Prix|{spa, https://en.wikipedia.org/wiki/Circuit_de_Spa-Francorchamps, Circuit de Spa-Francorchamps, {50.4372, 5.97139, Spa, Belgium}}            |1950-06-18|\n",
      "|1950  |6    |https://en.wikipedia.org/wiki/1950_French_Grand_Prix |French Grand Prix |{reims, https://en.wikipedia.org/wiki/Reims-Gueux, Reims-Gueux, {49.2542, 3.93083, Reims, France}}                                           |1950-07-02|\n",
      "|1950  |7    |https://en.wikipedia.org/wiki/1950_Italian_Grand_Prix|Italian Grand Prix|{monza, https://en.wikipedia.org/wiki/Monza_Circuit, Autodromo Nazionale di Monza, {45.615599999999986, 9.28111, Monza, Italy}}              |1950-09-03|\n",
      "|1951  |1    |https://en.wikipedia.org/wiki/1951_Swiss_Grand_Prix  |Swiss Grand Prix  |{bremgarten, https://en.wikipedia.org/wiki/Circuit_Bremgarten, Circuit Bremgarten, {46.9589, 7.40194, Bern, Switzerland}}                    |1951-05-27|\n",
      "|1951  |2    |https://en.wikipedia.org/wiki/1951_Indianapolis_500  |Indianapolis 500  |{indianapolis, https://en.wikipedia.org/wiki/Indianapolis_Motor_Speedway, Indianapolis Motor Speedway, {39.795, -86.2347, Indianapolis, USA}}|1951-05-30|\n",
      "|1951  |3    |https://en.wikipedia.org/wiki/1951_Belgian_Grand_Prix|Belgian Grand Prix|{spa, https://en.wikipedia.org/wiki/Circuit_de_Spa-Francorchamps, Circuit de Spa-Francorchamps, {50.4372, 5.97139, Spa, Belgium}}            |1951-06-17|\n",
      "|1951  |4    |https://en.wikipedia.org/wiki/1951_French_Grand_Prix |French Grand Prix |{reims, https://en.wikipedia.org/wiki/Reims-Gueux, Reims-Gueux, {49.2542, 3.93083, Reims, France}}                                           |1951-07-01|\n",
      "|1951  |5    |https://en.wikipedia.org/wiki/1951_British_Grand_Prix|British Grand Prix|{silverstone, https://en.wikipedia.org/wiki/Silverstone_Circuit, Silverstone Circuit, {52.0786, -1.01694, Silverstone, UK}}                  |1951-07-14|\n",
      "|1951  |6    |https://en.wikipedia.org/wiki/1951_German_Grand_Prix |German Grand Prix |{nurburgring, https://en.wikipedia.org/wiki/N%C3%BCrburgring, Nürburgring, {50.3356, 6.9475, Nürburg, Germany}}                              |1951-07-29|\n",
      "|1951  |7    |https://en.wikipedia.org/wiki/1951_Italian_Grand_Prix|Italian Grand Prix|{monza, https://en.wikipedia.org/wiki/Monza_Circuit, Autodromo Nazionale di Monza, {45.615599999999986, 9.28111, Monza, Italy}}              |1951-09-16|\n",
      "|1951  |8    |https://en.wikipedia.org/wiki/1951_Spanish_Grand_Prix|Spanish Grand Prix|{pedralbes, https://en.wikipedia.org/wiki/Pedralbes_Circuit, Circuit de Pedralbes, {41.3903, 2.11667, Barcelona, Spain}}                     |1951-10-28|\n",
      "|1952  |1    |https://en.wikipedia.org/wiki/1952_Swiss_Grand_Prix  |Swiss Grand Prix  |{bremgarten, https://en.wikipedia.org/wiki/Circuit_Bremgarten, Circuit Bremgarten, {46.9589, 7.40194, Bern, Switzerland}}                    |1952-05-18|\n",
      "|1952  |2    |https://en.wikipedia.org/wiki/1952_Indianapolis_500  |Indianapolis 500  |{indianapolis, https://en.wikipedia.org/wiki/Indianapolis_Motor_Speedway, Indianapolis Motor Speedway, {39.795, -86.2347, Indianapolis, USA}}|1952-05-30|\n",
      "|1952  |3    |https://en.wikipedia.org/wiki/1952_Belgian_Grand_Prix|Belgian Grand Prix|{spa, https://en.wikipedia.org/wiki/Circuit_de_Spa-Francorchamps, Circuit de Spa-Francorchamps, {50.4372, 5.97139, Spa, Belgium}}            |1952-06-22|\n",
      "|1952  |4    |https://en.wikipedia.org/wiki/1952_French_Grand_Prix |French Grand Prix |{essarts, https://en.wikipedia.org/wiki/Rouen-Les-Essarts, Rouen-Les-Essarts, {49.3306, 1.00458, Rouen, France}}                             |1952-07-06|\n",
      "|1952  |5    |https://en.wikipedia.org/wiki/1952_British_Grand_Prix|British Grand Prix|{silverstone, https://en.wikipedia.org/wiki/Silverstone_Circuit, Silverstone Circuit, {52.0786, -1.01694, Silverstone, UK}}                  |1952-07-19|\n",
      "+------+-----+-----------------------------------------------------+------------------+---------------------------------------------------------------------------------------------------------------------------------------------+----------+\n",
      "only showing top 20 rows\n",
      "\n"
     ]
    }
   ],
   "source": [
    "races_df.printSchema()\n",
    "races_df.show(truncate=False)"
   ]
  },
  {
   "cell_type": "code",
   "execution_count": 6,
   "metadata": {},
   "outputs": [
    {
     "name": "stdout",
     "output_type": "stream",
     "text": [
      "+------+-----+-----------------------------------------------------+------------------+----------+------------------+---------+------------+-----------+------------+----------------------------------------------------------+----------------------------+\n",
      "|season|round|url                                                  |raceName          |date      |latitude          |longitude|locality    |country    |circuit_id  |circuit_url                                               |circuit_name                |\n",
      "+------+-----+-----------------------------------------------------+------------------+----------+------------------+---------+------------+-----------+------------+----------------------------------------------------------+----------------------------+\n",
      "|1950  |1    |https://en.wikipedia.org/wiki/1950_British_Grand_Prix|British Grand Prix|1950-05-13|52.0786           |-1.01694 |Silverstone |UK         |silverstone |https://en.wikipedia.org/wiki/Silverstone_Circuit         |Silverstone Circuit         |\n",
      "|1950  |2    |https://en.wikipedia.org/wiki/1950_Monaco_Grand_Prix |Monaco Grand Prix |1950-05-21|43.7347           |7.42056  |Monte-Carlo |Monaco     |monaco      |https://en.wikipedia.org/wiki/Circuit_de_Monaco           |Circuit de Monaco           |\n",
      "|1950  |3    |https://en.wikipedia.org/wiki/1950_Indianapolis_500  |Indianapolis 500  |1950-05-30|39.795            |-86.2347 |Indianapolis|USA        |indianapolis|https://en.wikipedia.org/wiki/Indianapolis_Motor_Speedway |Indianapolis Motor Speedway |\n",
      "|1950  |4    |https://en.wikipedia.org/wiki/1950_Swiss_Grand_Prix  |Swiss Grand Prix  |1950-06-04|46.9589           |7.40194  |Bern        |Switzerland|bremgarten  |https://en.wikipedia.org/wiki/Circuit_Bremgarten          |Circuit Bremgarten          |\n",
      "|1950  |5    |https://en.wikipedia.org/wiki/1950_Belgian_Grand_Prix|Belgian Grand Prix|1950-06-18|50.4372           |5.97139  |Spa         |Belgium    |spa         |https://en.wikipedia.org/wiki/Circuit_de_Spa-Francorchamps|Circuit de Spa-Francorchamps|\n",
      "|1950  |6    |https://en.wikipedia.org/wiki/1950_French_Grand_Prix |French Grand Prix |1950-07-02|49.2542           |3.93083  |Reims       |France     |reims       |https://en.wikipedia.org/wiki/Reims-Gueux                 |Reims-Gueux                 |\n",
      "|1950  |7    |https://en.wikipedia.org/wiki/1950_Italian_Grand_Prix|Italian Grand Prix|1950-09-03|45.615599999999986|9.28111  |Monza       |Italy      |monza       |https://en.wikipedia.org/wiki/Monza_Circuit               |Autodromo Nazionale di Monza|\n",
      "|1951  |1    |https://en.wikipedia.org/wiki/1951_Swiss_Grand_Prix  |Swiss Grand Prix  |1951-05-27|46.9589           |7.40194  |Bern        |Switzerland|bremgarten  |https://en.wikipedia.org/wiki/Circuit_Bremgarten          |Circuit Bremgarten          |\n",
      "|1951  |2    |https://en.wikipedia.org/wiki/1951_Indianapolis_500  |Indianapolis 500  |1951-05-30|39.795            |-86.2347 |Indianapolis|USA        |indianapolis|https://en.wikipedia.org/wiki/Indianapolis_Motor_Speedway |Indianapolis Motor Speedway |\n",
      "|1951  |3    |https://en.wikipedia.org/wiki/1951_Belgian_Grand_Prix|Belgian Grand Prix|1951-06-17|50.4372           |5.97139  |Spa         |Belgium    |spa         |https://en.wikipedia.org/wiki/Circuit_de_Spa-Francorchamps|Circuit de Spa-Francorchamps|\n",
      "|1951  |4    |https://en.wikipedia.org/wiki/1951_French_Grand_Prix |French Grand Prix |1951-07-01|49.2542           |3.93083  |Reims       |France     |reims       |https://en.wikipedia.org/wiki/Reims-Gueux                 |Reims-Gueux                 |\n",
      "|1951  |5    |https://en.wikipedia.org/wiki/1951_British_Grand_Prix|British Grand Prix|1951-07-14|52.0786           |-1.01694 |Silverstone |UK         |silverstone |https://en.wikipedia.org/wiki/Silverstone_Circuit         |Silverstone Circuit         |\n",
      "|1951  |6    |https://en.wikipedia.org/wiki/1951_German_Grand_Prix |German Grand Prix |1951-07-29|50.3356           |6.9475   |Nürburg     |Germany    |nurburgring |https://en.wikipedia.org/wiki/N%C3%BCrburgring            |Nürburgring                 |\n",
      "|1951  |7    |https://en.wikipedia.org/wiki/1951_Italian_Grand_Prix|Italian Grand Prix|1951-09-16|45.615599999999986|9.28111  |Monza       |Italy      |monza       |https://en.wikipedia.org/wiki/Monza_Circuit               |Autodromo Nazionale di Monza|\n",
      "|1951  |8    |https://en.wikipedia.org/wiki/1951_Spanish_Grand_Prix|Spanish Grand Prix|1951-10-28|41.3903           |2.11667  |Barcelona   |Spain      |pedralbes   |https://en.wikipedia.org/wiki/Pedralbes_Circuit           |Circuit de Pedralbes        |\n",
      "|1952  |1    |https://en.wikipedia.org/wiki/1952_Swiss_Grand_Prix  |Swiss Grand Prix  |1952-05-18|46.9589           |7.40194  |Bern        |Switzerland|bremgarten  |https://en.wikipedia.org/wiki/Circuit_Bremgarten          |Circuit Bremgarten          |\n",
      "|1952  |2    |https://en.wikipedia.org/wiki/1952_Indianapolis_500  |Indianapolis 500  |1952-05-30|39.795            |-86.2347 |Indianapolis|USA        |indianapolis|https://en.wikipedia.org/wiki/Indianapolis_Motor_Speedway |Indianapolis Motor Speedway |\n",
      "|1952  |3    |https://en.wikipedia.org/wiki/1952_Belgian_Grand_Prix|Belgian Grand Prix|1952-06-22|50.4372           |5.97139  |Spa         |Belgium    |spa         |https://en.wikipedia.org/wiki/Circuit_de_Spa-Francorchamps|Circuit de Spa-Francorchamps|\n",
      "|1952  |4    |https://en.wikipedia.org/wiki/1952_French_Grand_Prix |French Grand Prix |1952-07-06|49.3306           |1.00458  |Rouen       |France     |essarts     |https://en.wikipedia.org/wiki/Rouen-Les-Essarts           |Rouen-Les-Essarts           |\n",
      "|1952  |5    |https://en.wikipedia.org/wiki/1952_British_Grand_Prix|British Grand Prix|1952-07-19|52.0786           |-1.01694 |Silverstone |UK         |silverstone |https://en.wikipedia.org/wiki/Silverstone_Circuit         |Silverstone Circuit         |\n",
      "+------+-----+-----------------------------------------------------+------------------+----------+------------------+---------+------------+-----------+------------+----------------------------------------------------------+----------------------------+\n",
      "only showing top 20 rows\n",
      "\n"
     ]
    }
   ],
   "source": [
    "# Cast the fields to the correct data types\n",
    "races_cast_df = races_df.withColumn(\"latitude\", col(\"Circuit.Location.lat\").cast(DoubleType())) \\\n",
    "    .withColumn(\"longitude\", col(\"Circuit.Location.long\").cast(DoubleType())) \\\n",
    "    .withColumn(\"locality\", col(\"Circuit.Location.locality\")) \\\n",
    "    .withColumn(\"country\", col(\"Circuit.Location.country\")) \\\n",
    "    .drop(\"Location\")\\\n",
    "    .withColumn(\"circuit_id\", col(\"Circuit.circuitId\")) \\\n",
    "    .withColumn(\"circuit_url\", col(\"Circuit.url\")) \\\n",
    "    .withColumn(\"circuit_name\", col(\"Circuit.circuitName\")) \\\n",
    "    .drop(\"Circuit\")\n",
    "races_cast_df.show(truncate=False)"
   ]
  },
  {
   "cell_type": "code",
   "execution_count": 7,
   "metadata": {},
   "outputs": [
    {
     "name": "stdout",
     "output_type": "stream",
     "text": [
      "+------+-----+-----------------------------------------------------+------------------+----------+------------------+---------+------------+-----------+------------+----------------------------------------------------------+----------------------------+\n",
      "|season|round|url                                                  |race_name         |race_date |latitude          |longitude|locality    |country    |circuit_id  |circuit_url                                               |circuit_name                |\n",
      "+------+-----+-----------------------------------------------------+------------------+----------+------------------+---------+------------+-----------+------------+----------------------------------------------------------+----------------------------+\n",
      "|1950  |1    |https://en.wikipedia.org/wiki/1950_British_Grand_Prix|British Grand Prix|1950-05-13|52.0786           |-1.01694 |Silverstone |UK         |silverstone |https://en.wikipedia.org/wiki/Silverstone_Circuit         |Silverstone Circuit         |\n",
      "|1950  |2    |https://en.wikipedia.org/wiki/1950_Monaco_Grand_Prix |Monaco Grand Prix |1950-05-21|43.7347           |7.42056  |Monte-Carlo |Monaco     |monaco      |https://en.wikipedia.org/wiki/Circuit_de_Monaco           |Circuit de Monaco           |\n",
      "|1950  |3    |https://en.wikipedia.org/wiki/1950_Indianapolis_500  |Indianapolis 500  |1950-05-30|39.795            |-86.2347 |Indianapolis|USA        |indianapolis|https://en.wikipedia.org/wiki/Indianapolis_Motor_Speedway |Indianapolis Motor Speedway |\n",
      "|1950  |4    |https://en.wikipedia.org/wiki/1950_Swiss_Grand_Prix  |Swiss Grand Prix  |1950-06-04|46.9589           |7.40194  |Bern        |Switzerland|bremgarten  |https://en.wikipedia.org/wiki/Circuit_Bremgarten          |Circuit Bremgarten          |\n",
      "|1950  |5    |https://en.wikipedia.org/wiki/1950_Belgian_Grand_Prix|Belgian Grand Prix|1950-06-18|50.4372           |5.97139  |Spa         |Belgium    |spa         |https://en.wikipedia.org/wiki/Circuit_de_Spa-Francorchamps|Circuit de Spa-Francorchamps|\n",
      "|1950  |6    |https://en.wikipedia.org/wiki/1950_French_Grand_Prix |French Grand Prix |1950-07-02|49.2542           |3.93083  |Reims       |France     |reims       |https://en.wikipedia.org/wiki/Reims-Gueux                 |Reims-Gueux                 |\n",
      "|1950  |7    |https://en.wikipedia.org/wiki/1950_Italian_Grand_Prix|Italian Grand Prix|1950-09-03|45.615599999999986|9.28111  |Monza       |Italy      |monza       |https://en.wikipedia.org/wiki/Monza_Circuit               |Autodromo Nazionale di Monza|\n",
      "|1951  |1    |https://en.wikipedia.org/wiki/1951_Swiss_Grand_Prix  |Swiss Grand Prix  |1951-05-27|46.9589           |7.40194  |Bern        |Switzerland|bremgarten  |https://en.wikipedia.org/wiki/Circuit_Bremgarten          |Circuit Bremgarten          |\n",
      "|1951  |2    |https://en.wikipedia.org/wiki/1951_Indianapolis_500  |Indianapolis 500  |1951-05-30|39.795            |-86.2347 |Indianapolis|USA        |indianapolis|https://en.wikipedia.org/wiki/Indianapolis_Motor_Speedway |Indianapolis Motor Speedway |\n",
      "|1951  |3    |https://en.wikipedia.org/wiki/1951_Belgian_Grand_Prix|Belgian Grand Prix|1951-06-17|50.4372           |5.97139  |Spa         |Belgium    |spa         |https://en.wikipedia.org/wiki/Circuit_de_Spa-Francorchamps|Circuit de Spa-Francorchamps|\n",
      "|1951  |4    |https://en.wikipedia.org/wiki/1951_French_Grand_Prix |French Grand Prix |1951-07-01|49.2542           |3.93083  |Reims       |France     |reims       |https://en.wikipedia.org/wiki/Reims-Gueux                 |Reims-Gueux                 |\n",
      "|1951  |5    |https://en.wikipedia.org/wiki/1951_British_Grand_Prix|British Grand Prix|1951-07-14|52.0786           |-1.01694 |Silverstone |UK         |silverstone |https://en.wikipedia.org/wiki/Silverstone_Circuit         |Silverstone Circuit         |\n",
      "|1951  |6    |https://en.wikipedia.org/wiki/1951_German_Grand_Prix |German Grand Prix |1951-07-29|50.3356           |6.9475   |Nürburg     |Germany    |nurburgring |https://en.wikipedia.org/wiki/N%C3%BCrburgring            |Nürburgring                 |\n",
      "|1951  |7    |https://en.wikipedia.org/wiki/1951_Italian_Grand_Prix|Italian Grand Prix|1951-09-16|45.615599999999986|9.28111  |Monza       |Italy      |monza       |https://en.wikipedia.org/wiki/Monza_Circuit               |Autodromo Nazionale di Monza|\n",
      "|1951  |8    |https://en.wikipedia.org/wiki/1951_Spanish_Grand_Prix|Spanish Grand Prix|1951-10-28|41.3903           |2.11667  |Barcelona   |Spain      |pedralbes   |https://en.wikipedia.org/wiki/Pedralbes_Circuit           |Circuit de Pedralbes        |\n",
      "|1952  |1    |https://en.wikipedia.org/wiki/1952_Swiss_Grand_Prix  |Swiss Grand Prix  |1952-05-18|46.9589           |7.40194  |Bern        |Switzerland|bremgarten  |https://en.wikipedia.org/wiki/Circuit_Bremgarten          |Circuit Bremgarten          |\n",
      "|1952  |2    |https://en.wikipedia.org/wiki/1952_Indianapolis_500  |Indianapolis 500  |1952-05-30|39.795            |-86.2347 |Indianapolis|USA        |indianapolis|https://en.wikipedia.org/wiki/Indianapolis_Motor_Speedway |Indianapolis Motor Speedway |\n",
      "|1952  |3    |https://en.wikipedia.org/wiki/1952_Belgian_Grand_Prix|Belgian Grand Prix|1952-06-22|50.4372           |5.97139  |Spa         |Belgium    |spa         |https://en.wikipedia.org/wiki/Circuit_de_Spa-Francorchamps|Circuit de Spa-Francorchamps|\n",
      "|1952  |4    |https://en.wikipedia.org/wiki/1952_French_Grand_Prix |French Grand Prix |1952-07-06|49.3306           |1.00458  |Rouen       |France     |essarts     |https://en.wikipedia.org/wiki/Rouen-Les-Essarts           |Rouen-Les-Essarts           |\n",
      "|1952  |5    |https://en.wikipedia.org/wiki/1952_British_Grand_Prix|British Grand Prix|1952-07-19|52.0786           |-1.01694 |Silverstone |UK         |silverstone |https://en.wikipedia.org/wiki/Silverstone_Circuit         |Silverstone Circuit         |\n",
      "+------+-----+-----------------------------------------------------+------------------+----------+------------------+---------+------------+-----------+------------+----------------------------------------------------------+----------------------------+\n",
      "only showing top 20 rows\n",
      "\n"
     ]
    }
   ],
   "source": [
    "# Rename the columns\n",
    "races_renamed_df = races_cast_df.withColumnRenamed(\"raceName\", \"race_name\")\\\n",
    "                                .withColumnRenamed(\"date\", \"race_date\")\n",
    "races_renamed_df.show(truncate=False)"
   ]
  },
  {
   "cell_type": "code",
   "execution_count": 8,
   "metadata": {},
   "outputs": [
    {
     "name": "stdout",
     "output_type": "stream",
     "text": [
      "+------+-----+------------------+----------+\n",
      "|season|round|race_name         |race_date |\n",
      "+------+-----+------------------+----------+\n",
      "|1950  |1    |British Grand Prix|1950-05-13|\n",
      "|1950  |2    |Monaco Grand Prix |1950-05-21|\n",
      "|1950  |3    |Indianapolis 500  |1950-05-30|\n",
      "|1950  |4    |Swiss Grand Prix  |1950-06-04|\n",
      "|1950  |5    |Belgian Grand Prix|1950-06-18|\n",
      "|1950  |6    |French Grand Prix |1950-07-02|\n",
      "|1950  |7    |Italian Grand Prix|1950-09-03|\n",
      "|1951  |1    |Swiss Grand Prix  |1951-05-27|\n",
      "|1951  |2    |Indianapolis 500  |1951-05-30|\n",
      "|1951  |3    |Belgian Grand Prix|1951-06-17|\n",
      "|1951  |4    |French Grand Prix |1951-07-01|\n",
      "|1951  |5    |British Grand Prix|1951-07-14|\n",
      "|1951  |6    |German Grand Prix |1951-07-29|\n",
      "|1951  |7    |Italian Grand Prix|1951-09-16|\n",
      "|1951  |8    |Spanish Grand Prix|1951-10-28|\n",
      "|1952  |1    |Swiss Grand Prix  |1952-05-18|\n",
      "|1952  |2    |Indianapolis 500  |1952-05-30|\n",
      "|1952  |3    |Belgian Grand Prix|1952-06-22|\n",
      "|1952  |4    |French Grand Prix |1952-07-06|\n",
      "|1952  |5    |British Grand Prix|1952-07-19|\n",
      "+------+-----+------------------+----------+\n",
      "only showing top 20 rows\n",
      "\n"
     ]
    }
   ],
   "source": [
    "# Select the final columns\n",
    "races_final_df = races_renamed_df.select(col(\"season\").cast(IntegerType()).alias(\"season\"), col(\"round\").cast(IntegerType()).alias(\"round\"), col(\"race_name\"), col(\"race_date\").cast(DateType()).alias(\"race_date\"))\n",
    "races_final_df.show(truncate=False)"
   ]
  },
  {
   "cell_type": "code",
   "execution_count": 9,
   "metadata": {},
   "outputs": [
    {
     "name": "stdout",
     "output_type": "stream",
     "text": [
      "root\n",
      " |-- season: integer (nullable = true)\n",
      " |-- round: integer (nullable = true)\n",
      " |-- race_name: string (nullable = true)\n",
      " |-- race_date: date (nullable = true)\n",
      "\n"
     ]
    }
   ],
   "source": [
    "races_final_df.printSchema()"
   ]
  },
  {
   "cell_type": "code",
   "execution_count": 10,
   "metadata": {},
   "outputs": [],
   "source": [
    "races_final_df.write.mode(\"overwrite\").format(\"parquet\").save(\"gs://f1-gcp/processed/races/\")"
   ]
  },
  {
   "cell_type": "code",
   "execution_count": 11,
   "metadata": {},
   "outputs": [
    {
     "name": "stdout",
     "output_type": "stream",
     "text": [
      "+------+-----+------------------+----------+\n",
      "|season|round|         race_name| race_date|\n",
      "+------+-----+------------------+----------+\n",
      "|  1950|    1|British Grand Prix|1950-05-13|\n",
      "|  1950|    2| Monaco Grand Prix|1950-05-21|\n",
      "|  1950|    3|  Indianapolis 500|1950-05-30|\n",
      "|  1950|    4|  Swiss Grand Prix|1950-06-04|\n",
      "|  1950|    5|Belgian Grand Prix|1950-06-18|\n",
      "|  1950|    6| French Grand Prix|1950-07-02|\n",
      "|  1950|    7|Italian Grand Prix|1950-09-03|\n",
      "|  1951|    1|  Swiss Grand Prix|1951-05-27|\n",
      "|  1951|    2|  Indianapolis 500|1951-05-30|\n",
      "|  1951|    3|Belgian Grand Prix|1951-06-17|\n",
      "|  1951|    4| French Grand Prix|1951-07-01|\n",
      "|  1951|    5|British Grand Prix|1951-07-14|\n",
      "|  1951|    6| German Grand Prix|1951-07-29|\n",
      "|  1951|    7|Italian Grand Prix|1951-09-16|\n",
      "|  1951|    8|Spanish Grand Prix|1951-10-28|\n",
      "|  1952|    1|  Swiss Grand Prix|1952-05-18|\n",
      "|  1952|    2|  Indianapolis 500|1952-05-30|\n",
      "|  1952|    3|Belgian Grand Prix|1952-06-22|\n",
      "|  1952|    4| French Grand Prix|1952-07-06|\n",
      "|  1952|    5|British Grand Prix|1952-07-19|\n",
      "+------+-----+------------------+----------+\n",
      "only showing top 20 rows\n",
      "\n"
     ]
    }
   ],
   "source": [
    "spark.read.parquet(\"gs://f1-gcp/processed/races/\").show()"
   ]
  },
  {
   "cell_type": "code",
   "execution_count": 12,
   "metadata": {},
   "outputs": [],
   "source": [
    "spark.stop()"
   ]
  }
 ],
 "metadata": {
  "kernelspec": {
   "display_name": "venv",
   "language": "python",
   "name": "python3"
  },
  "language_info": {
   "codemirror_mode": {
    "name": "ipython",
    "version": 3
   },
   "file_extension": ".py",
   "mimetype": "text/x-python",
   "name": "python",
   "nbconvert_exporter": "python",
   "pygments_lexer": "ipython3",
   "version": "3.12.8"
  }
 },
 "nbformat": 4,
 "nbformat_minor": 2
}
