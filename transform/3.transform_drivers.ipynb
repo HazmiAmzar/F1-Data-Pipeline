{
 "cells": [
  {
   "cell_type": "code",
   "execution_count": 1,
   "metadata": {},
   "outputs": [],
   "source": [
    "from pyspark.sql.functions import col, lit, concat\n",
    "from pyspark.sql import SparkSession\n",
    "from pyspark.sql.types import StructType, StructField, IntegerType, StringType, DateType"
   ]
  },
  {
   "cell_type": "code",
   "execution_count": null,
   "metadata": {},
   "outputs": [],
   "source": [
    "spark = SparkSession.builder \\\n",
    "    .appName(\"F1 Data Pipeline\") \\\n",
    "    .config(\"spark.ui.port\", \"4040\") \\\n",
    "    .config(\"spark.jars\", \"file:///C:/spark/spark-3.5.1-bin-hadoop3/jars/gcs-connector-hadoop3-latest.jar\") \\\n",
    "    .getOrCreate()\n",
    "\n",
    "# Set GCS authentication and filesystem implementation\n",
    "spark.conf.set(\"spark.hadoop.fs.gs.impl\", \"com.google.cloud.hadoop.fs.gcs.GoogleHadoopFileSystem\")\n",
    "spark.conf.set(\"spark.hadoop.fs.AbstractFileSystem.gs.impl\", \"com.google.cloud.hadoop.fs.gcs.GoogleHadoopFS\")\n",
    "spark.conf.set(\"google.cloud.auth.service.account.enable\", \"true\")\n",
    "spark.conf.set(\"google.cloud.auth.service.account.json.keyfile\", \"path/to/service-account-file.json\")\n"
   ]
  },
  {
   "cell_type": "code",
   "execution_count": 3,
   "metadata": {},
   "outputs": [],
   "source": [
    "# Define the schema\n",
    "drivers_schema = StructType([StructField(\"driverId\", StringType(), False),\n",
    "                             StructField(\"permanentNumber\", StringType(), True),\n",
    "                             StructField(\"code\", StringType(), True),\n",
    "                             StructField(\"url\", StringType(), True),\n",
    "                             StructField(\"givenName\", StringType(), True),\n",
    "                             StructField(\"familyName\", StringType(), True),\n",
    "                             StructField(\"dateOfBirth\", StringType(), True),\n",
    "                             StructField(\"nationality\", StringType(), True)\n",
    "])"
   ]
  },
  {
   "cell_type": "code",
   "execution_count": 4,
   "metadata": {},
   "outputs": [],
   "source": [
    "drivers_df = spark.read \\\n",
    ".schema(drivers_schema) \\\n",
    ".option(\"multiLine\", True) \\\n",
    ".json(\"gs://f1-gcp/raw/drivers.json\")"
   ]
  },
  {
   "cell_type": "code",
   "execution_count": 5,
   "metadata": {},
   "outputs": [
    {
     "name": "stdout",
     "output_type": "stream",
     "text": [
      "root\n",
      " |-- driverId: string (nullable = true)\n",
      " |-- permanentNumber: string (nullable = true)\n",
      " |-- code: string (nullable = true)\n",
      " |-- url: string (nullable = true)\n",
      " |-- givenName: string (nullable = true)\n",
      " |-- familyName: string (nullable = true)\n",
      " |-- dateOfBirth: string (nullable = true)\n",
      " |-- nationality: string (nullable = true)\n",
      "\n",
      "+------------+---------------+----+----------------------------------------------+----------+-----------+-----------+-----------+\n",
      "|driverId    |permanentNumber|code|url                                           |givenName |familyName |dateOfBirth|nationality|\n",
      "+------------+---------------+----+----------------------------------------------+----------+-----------+-----------+-----------+\n",
      "|abate       |NULL           |NULL|http://en.wikipedia.org/wiki/Carlo_Mario_Abate|Carlo     |Abate      |1932-07-10 |Italian    |\n",
      "|abecassis   |NULL           |NULL|http://en.wikipedia.org/wiki/George_Abecassis |George    |Abecassis  |1913-03-21 |British    |\n",
      "|acheson     |NULL           |NULL|http://en.wikipedia.org/wiki/Kenny_Acheson    |Kenny     |Acheson    |1957-11-27 |British    |\n",
      "|adams       |NULL           |NULL|http://en.wikipedia.org/wiki/Philippe_Adams   |Philippe  |Adams      |1969-11-19 |Belgian    |\n",
      "|ader        |NULL           |NULL|http://en.wikipedia.org/wiki/Walt_Ader        |Walt      |Ader       |1913-12-15 |American   |\n",
      "|adolff      |NULL           |NULL|http://en.wikipedia.org/wiki/Kurt_Adolff      |Kurt      |Adolff     |1921-11-05 |German     |\n",
      "|agabashian  |NULL           |NULL|http://en.wikipedia.org/wiki/Fred_Agabashian  |Fred      |Agabashian |1913-08-21 |American   |\n",
      "|ahrens      |NULL           |NULL|http://en.wikipedia.org/wiki/Kurt_Ahrens,_Jr. |Kurt      |Ahrens     |1940-04-19 |German     |\n",
      "|aitken      |89             |AIT |http://en.wikipedia.org/wiki/Jack_Aitken      |Jack      |Aitken     |1995-09-23 |British    |\n",
      "|albers      |NULL           |ALB |http://en.wikipedia.org/wiki/Christijan_Albers|Christijan|Albers     |1979-04-16 |Dutch      |\n",
      "|albon       |23             |ALB |http://en.wikipedia.org/wiki/Alexander_Albon  |Alexander |Albon      |1996-03-23 |Thai       |\n",
      "|alboreto    |NULL           |NULL|http://en.wikipedia.org/wiki/Michele_Alboreto |Michele   |Alboreto   |1956-12-23 |Italian    |\n",
      "|alesi       |NULL           |NULL|http://en.wikipedia.org/wiki/Jean_Alesi       |Jean      |Alesi      |1964-06-11 |French     |\n",
      "|alguersuari |NULL           |ALG |http://en.wikipedia.org/wiki/Jaime_Alguersuari|Jaime     |Alguersuari|1990-03-23 |Spanish    |\n",
      "|alliot      |NULL           |NULL|http://en.wikipedia.org/wiki/Philippe_Alliot  |Philippe  |Alliot     |1954-07-27 |French     |\n",
      "|allison     |NULL           |NULL|http://en.wikipedia.org/wiki/Cliff_Allison    |Cliff     |Allison    |1932-02-08 |British    |\n",
      "|alonso      |14             |ALO |http://en.wikipedia.org/wiki/Fernando_Alonso  |Fernando  |Alonso     |1981-07-29 |Spanish    |\n",
      "|amati       |NULL           |NULL|http://en.wikipedia.org/wiki/Giovanna_Amati   |Giovanna  |Amati      |1959-07-20 |Italian    |\n",
      "|george_amick|NULL           |NULL|http://en.wikipedia.org/wiki/George_Amick     |George    |Amick      |1924-10-24 |American   |\n",
      "|amick       |NULL           |NULL|http://en.wikipedia.org/wiki/Red_Amick        |Red       |Amick      |1929-01-19 |American   |\n",
      "+------------+---------------+----+----------------------------------------------+----------+-----------+-----------+-----------+\n",
      "only showing top 20 rows\n",
      "\n"
     ]
    }
   ],
   "source": [
    "drivers_df.printSchema()\n",
    "drivers_df.show(truncate=False)"
   ]
  },
  {
   "cell_type": "code",
   "execution_count": 9,
   "metadata": {},
   "outputs": [
    {
     "name": "stdout",
     "output_type": "stream",
     "text": [
      "+------------+---------------+----+----------+-----------+-----------+-----------+-----------------+\n",
      "|driverId    |permanentNumber|code|givenName |familyName |dateOfBirth|nationality|name             |\n",
      "+------------+---------------+----+----------+-----------+-----------+-----------+-----------------+\n",
      "|abate       |NULL           |NULL|Carlo     |Abate      |1932-07-10 |Italian    |Carlo Abate      |\n",
      "|abecassis   |NULL           |NULL|George    |Abecassis  |1913-03-21 |British    |George Abecassis |\n",
      "|acheson     |NULL           |NULL|Kenny     |Acheson    |1957-11-27 |British    |Kenny Acheson    |\n",
      "|adams       |NULL           |NULL|Philippe  |Adams      |1969-11-19 |Belgian    |Philippe Adams   |\n",
      "|ader        |NULL           |NULL|Walt      |Ader       |1913-12-15 |American   |Walt Ader        |\n",
      "|adolff      |NULL           |NULL|Kurt      |Adolff     |1921-11-05 |German     |Kurt Adolff      |\n",
      "|agabashian  |NULL           |NULL|Fred      |Agabashian |1913-08-21 |American   |Fred Agabashian  |\n",
      "|ahrens      |NULL           |NULL|Kurt      |Ahrens     |1940-04-19 |German     |Kurt Ahrens      |\n",
      "|aitken      |89             |AIT |Jack      |Aitken     |1995-09-23 |British    |Jack Aitken      |\n",
      "|albers      |NULL           |ALB |Christijan|Albers     |1979-04-16 |Dutch      |Christijan Albers|\n",
      "|albon       |23             |ALB |Alexander |Albon      |1996-03-23 |Thai       |Alexander Albon  |\n",
      "|alboreto    |NULL           |NULL|Michele   |Alboreto   |1956-12-23 |Italian    |Michele Alboreto |\n",
      "|alesi       |NULL           |NULL|Jean      |Alesi      |1964-06-11 |French     |Jean Alesi       |\n",
      "|alguersuari |NULL           |ALG |Jaime     |Alguersuari|1990-03-23 |Spanish    |Jaime Alguersuari|\n",
      "|alliot      |NULL           |NULL|Philippe  |Alliot     |1954-07-27 |French     |Philippe Alliot  |\n",
      "|allison     |NULL           |NULL|Cliff     |Allison    |1932-02-08 |British    |Cliff Allison    |\n",
      "|alonso      |14             |ALO |Fernando  |Alonso     |1981-07-29 |Spanish    |Fernando Alonso  |\n",
      "|amati       |NULL           |NULL|Giovanna  |Amati      |1959-07-20 |Italian    |Giovanna Amati   |\n",
      "|george_amick|NULL           |NULL|George    |Amick      |1924-10-24 |American   |George Amick     |\n",
      "|amick       |NULL           |NULL|Red       |Amick      |1929-01-19 |American   |Red Amick        |\n",
      "+------------+---------------+----+----------+-----------+-----------+-----------+-----------------+\n",
      "only showing top 20 rows\n",
      "\n"
     ]
    }
   ],
   "source": [
    "drivers_df = drivers_df.drop(col(\"url\"))\\\n",
    "                                .withColumn(\"name\", concat(col(\"givenName\"), lit(\" \"), col(\"familyName\")))\n",
    "drivers_df.show(truncate=False)"
   ]
  },
  {
   "cell_type": "code",
   "execution_count": 10,
   "metadata": {},
   "outputs": [
    {
     "name": "stdout",
     "output_type": "stream",
     "text": [
      "+------------+----------------+----+-----------------+-----------+-------------+\n",
      "|driver_id   |permanent_number|code|name             |nationality|date_of_birth|\n",
      "+------------+----------------+----+-----------------+-----------+-------------+\n",
      "|abate       |NULL            |NULL|Carlo Abate      |Italian    |1932-07-10   |\n",
      "|abecassis   |NULL            |NULL|George Abecassis |British    |1913-03-21   |\n",
      "|acheson     |NULL            |NULL|Kenny Acheson    |British    |1957-11-27   |\n",
      "|adams       |NULL            |NULL|Philippe Adams   |Belgian    |1969-11-19   |\n",
      "|ader        |NULL            |NULL|Walt Ader        |American   |1913-12-15   |\n",
      "|adolff      |NULL            |NULL|Kurt Adolff      |German     |1921-11-05   |\n",
      "|agabashian  |NULL            |NULL|Fred Agabashian  |American   |1913-08-21   |\n",
      "|ahrens      |NULL            |NULL|Kurt Ahrens      |German     |1940-04-19   |\n",
      "|aitken      |89              |AIT |Jack Aitken      |British    |1995-09-23   |\n",
      "|albers      |NULL            |ALB |Christijan Albers|Dutch      |1979-04-16   |\n",
      "|albon       |23              |ALB |Alexander Albon  |Thai       |1996-03-23   |\n",
      "|alboreto    |NULL            |NULL|Michele Alboreto |Italian    |1956-12-23   |\n",
      "|alesi       |NULL            |NULL|Jean Alesi       |French     |1964-06-11   |\n",
      "|alguersuari |NULL            |ALG |Jaime Alguersuari|Spanish    |1990-03-23   |\n",
      "|alliot      |NULL            |NULL|Philippe Alliot  |French     |1954-07-27   |\n",
      "|allison     |NULL            |NULL|Cliff Allison    |British    |1932-02-08   |\n",
      "|alonso      |14              |ALO |Fernando Alonso  |Spanish    |1981-07-29   |\n",
      "|amati       |NULL            |NULL|Giovanna Amati   |Italian    |1959-07-20   |\n",
      "|george_amick|NULL            |NULL|George Amick     |American   |1924-10-24   |\n",
      "|amick       |NULL            |NULL|Red Amick        |American   |1929-01-19   |\n",
      "+------------+----------------+----+-----------------+-----------+-------------+\n",
      "only showing top 20 rows\n",
      "\n"
     ]
    }
   ],
   "source": [
    "# Select the final columns (can also use .drop() to remove columns)\n",
    "drivers_final_df = drivers_df.select(col(\"driverId\").alias(\"driver_id\"),\n",
    "                                     col(\"permanentNumber\").cast(IntegerType()).alias(\"permanent_number\"),\n",
    "                                     col(\"code\"),\n",
    "                                     col(\"name\"), \n",
    "                                     col(\"nationality\"),\n",
    "                                     col(\"dateOfBirth\").cast(DateType()).alias(\"date_of_birth\"))\n",
    "drivers_final_df.show(truncate=False)"
   ]
  },
  {
   "cell_type": "code",
   "execution_count": 11,
   "metadata": {},
   "outputs": [
    {
     "name": "stdout",
     "output_type": "stream",
     "text": [
      "root\n",
      " |-- driver_id: string (nullable = true)\n",
      " |-- permanent_number: integer (nullable = true)\n",
      " |-- code: string (nullable = true)\n",
      " |-- name: string (nullable = true)\n",
      " |-- nationality: string (nullable = true)\n",
      " |-- date_of_birth: date (nullable = true)\n",
      "\n"
     ]
    }
   ],
   "source": [
    "drivers_final_df.printSchema()"
   ]
  },
  {
   "cell_type": "code",
   "execution_count": 12,
   "metadata": {},
   "outputs": [],
   "source": [
    "drivers_final_df.write.mode(\"overwrite\").format(\"parquet\").save(\"gs://f1-gcp/processed/drivers/\")"
   ]
  },
  {
   "cell_type": "code",
   "execution_count": 13,
   "metadata": {},
   "outputs": [
    {
     "name": "stdout",
     "output_type": "stream",
     "text": [
      "+------------+----------------+----+-----------------+-----------+-------------+\n",
      "|   driver_id|permanent_number|code|             name|nationality|date_of_birth|\n",
      "+------------+----------------+----+-----------------+-----------+-------------+\n",
      "|       abate|            NULL|NULL|      Carlo Abate|    Italian|   1932-07-10|\n",
      "|   abecassis|            NULL|NULL| George Abecassis|    British|   1913-03-21|\n",
      "|     acheson|            NULL|NULL|    Kenny Acheson|    British|   1957-11-27|\n",
      "|       adams|            NULL|NULL|   Philippe Adams|    Belgian|   1969-11-19|\n",
      "|        ader|            NULL|NULL|        Walt Ader|   American|   1913-12-15|\n",
      "|      adolff|            NULL|NULL|      Kurt Adolff|     German|   1921-11-05|\n",
      "|  agabashian|            NULL|NULL|  Fred Agabashian|   American|   1913-08-21|\n",
      "|      ahrens|            NULL|NULL|      Kurt Ahrens|     German|   1940-04-19|\n",
      "|      aitken|              89| AIT|      Jack Aitken|    British|   1995-09-23|\n",
      "|      albers|            NULL| ALB|Christijan Albers|      Dutch|   1979-04-16|\n",
      "|       albon|              23| ALB|  Alexander Albon|       Thai|   1996-03-23|\n",
      "|    alboreto|            NULL|NULL| Michele Alboreto|    Italian|   1956-12-23|\n",
      "|       alesi|            NULL|NULL|       Jean Alesi|     French|   1964-06-11|\n",
      "| alguersuari|            NULL| ALG|Jaime Alguersuari|    Spanish|   1990-03-23|\n",
      "|      alliot|            NULL|NULL|  Philippe Alliot|     French|   1954-07-27|\n",
      "|     allison|            NULL|NULL|    Cliff Allison|    British|   1932-02-08|\n",
      "|      alonso|              14| ALO|  Fernando Alonso|    Spanish|   1981-07-29|\n",
      "|       amati|            NULL|NULL|   Giovanna Amati|    Italian|   1959-07-20|\n",
      "|george_amick|            NULL|NULL|     George Amick|   American|   1924-10-24|\n",
      "|       amick|            NULL|NULL|        Red Amick|   American|   1929-01-19|\n",
      "+------------+----------------+----+-----------------+-----------+-------------+\n",
      "only showing top 20 rows\n",
      "\n"
     ]
    }
   ],
   "source": [
    "spark.read.parquet(\"gs://f1-gcp/processed/drivers/\").show()"
   ]
  },
  {
   "cell_type": "code",
   "execution_count": 14,
   "metadata": {},
   "outputs": [],
   "source": [
    "spark.stop()"
   ]
  }
 ],
 "metadata": {
  "kernelspec": {
   "display_name": "venv",
   "language": "python",
   "name": "python3"
  },
  "language_info": {
   "codemirror_mode": {
    "name": "ipython",
    "version": 3
   },
   "file_extension": ".py",
   "mimetype": "text/x-python",
   "name": "python",
   "nbconvert_exporter": "python",
   "pygments_lexer": "ipython3",
   "version": "3.12.8"
  }
 },
 "nbformat": 4,
 "nbformat_minor": 2
}
