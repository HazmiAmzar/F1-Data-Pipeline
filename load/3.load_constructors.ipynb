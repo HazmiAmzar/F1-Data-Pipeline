{
 "cells": [
  {
   "cell_type": "code",
   "execution_count": 1,
   "metadata": {},
   "outputs": [],
   "source": [
    "from google.cloud import bigquery"
   ]
  },
  {
   "cell_type": "code",
   "execution_count": 2,
   "metadata": {},
   "outputs": [],
   "source": [
    "client = bigquery.Client()"
   ]
  },
  {
   "cell_type": "code",
   "execution_count": 3,
   "metadata": {},
   "outputs": [],
   "source": [
    "project_id = 'f1-de-gcp'"
   ]
  },
  {
   "cell_type": "code",
   "execution_count": 4,
   "metadata": {},
   "outputs": [],
   "source": [
    "table_id = f\"{project_id}.f1.dim_constructors\""
   ]
  },
  {
   "cell_type": "code",
   "execution_count": 6,
   "metadata": {},
   "outputs": [
    {
     "name": "stdout",
     "output_type": "stream",
     "text": [
      "gs://f1-gcp/processed/constructors/\n",
      "gs://f1-gcp/processed/constructors/_SUCCESS\n",
      "gs://f1-gcp/processed/constructors/part-00000-61a9f932-6791-4481-a09f-415c589395cd-c000.snappy.parquet\n"
     ]
    }
   ],
   "source": [
    "!gsutil ls gs://f1-gcp/processed/constructors"
   ]
  },
  {
   "cell_type": "code",
   "execution_count": 7,
   "metadata": {},
   "outputs": [],
   "source": [
    "job_config = bigquery.LoadJobConfig(source_format = \"PARQUET\", autodetect = True, write_disposition = \"WRITE_TRUNCATE\")"
   ]
  },
  {
   "cell_type": "code",
   "execution_count": 8,
   "metadata": {},
   "outputs": [
    {
     "name": "stdout",
     "output_type": "stream",
     "text": [
      "✅ Table f1-de-gcp.f1.dim_constructors created successfully.\n"
     ]
    }
   ],
   "source": [
    "uri = \"gs://f1-gcp/processed/constructors/part-00000-61a9f932-6791-4481-a09f-415c589395cd-c000.snappy.parquet\"\n",
    "load_job = client.load_table_from_uri(\n",
    "    uri, table_id, job_config=job_config\n",
    ")  # Make an API request.\n",
    "\n",
    "load_job.result()  # Wait for the job to complete.\n",
    "print(f\"✅ Table {table_id} created successfully.\")"
   ]
  },
  {
   "cell_type": "code",
   "execution_count": 9,
   "metadata": {},
   "outputs": [
    {
     "name": "stdout",
     "output_type": "stream",
     "text": [
      "Loaded 1111 rows to table f1-de-gcp.f1.dim_constructors\n"
     ]
    }
   ],
   "source": [
    "table = client.get_table(table_id)\n",
    "print(\"Loaded {} rows to table {}\".format(table.num_rows, table_id))"
   ]
  },
  {
   "cell_type": "code",
   "execution_count": 10,
   "metadata": {},
   "outputs": [
    {
     "name": "stdout",
     "output_type": "stream",
     "text": [
      "(1950, 'adams', 'Adams', 'American')\n",
      "(1951, 'bromme', 'Bromme', 'American')\n",
      "(1952, 'bromme', 'Bromme', 'American')\n",
      "(1953, 'bromme', 'Bromme', 'American')\n",
      "(1954, 'bromme', 'Bromme', 'American')\n",
      "(1950, 'deidt', 'Deidt', 'American')\n",
      "(1951, 'deidt', 'Deidt', 'American')\n",
      "(1952, 'deidt', 'Deidt', 'American')\n",
      "(1953, 'del_roy', 'Del Roy', 'American')\n",
      "(1957, 'dunn', 'Dunn', 'American')\n"
     ]
    }
   ],
   "source": [
    "# Perform a query.\n",
    "QUERY = (\n",
    "    f'''SELECT * FROM `{project_id}.f1.dim_constructors` LIMIT 10'''\n",
    ")\n",
    "query_job = client.query(QUERY)  # API request\n",
    "rows = query_job.result()  # Waits for query to finish\n",
    "\n",
    "for row in rows:\n",
    "    print(row.values())"
   ]
  }
 ],
 "metadata": {
  "kernelspec": {
   "display_name": "venv",
   "language": "python",
   "name": "python3"
  },
  "language_info": {
   "codemirror_mode": {
    "name": "ipython",
    "version": 3
   },
   "file_extension": ".py",
   "mimetype": "text/x-python",
   "name": "python",
   "nbconvert_exporter": "python",
   "pygments_lexer": "ipython3",
   "version": "3.12.8"
  }
 },
 "nbformat": 4,
 "nbformat_minor": 2
}
