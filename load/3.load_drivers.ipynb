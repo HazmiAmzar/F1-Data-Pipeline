{
 "cells": [
  {
   "cell_type": "code",
   "execution_count": 1,
   "metadata": {},
   "outputs": [],
   "source": [
    "from google.cloud import bigquery"
   ]
  },
  {
   "cell_type": "code",
   "execution_count": 2,
   "metadata": {},
   "outputs": [],
   "source": [
    "client = bigquery.Client()"
   ]
  },
  {
   "cell_type": "code",
   "execution_count": 3,
   "metadata": {},
   "outputs": [],
   "source": [
    "project_id = 'f1-de-gcp'"
   ]
  },
  {
   "cell_type": "code",
   "execution_count": 4,
   "metadata": {},
   "outputs": [],
   "source": [
    "table_id = f\"{project_id}.f1.dim_drivers\""
   ]
  },
  {
   "cell_type": "code",
   "execution_count": 5,
   "metadata": {},
   "outputs": [
    {
     "name": "stdout",
     "output_type": "stream",
     "text": [
      "gs://f1-gcp/processed/drivers/\n",
      "gs://f1-gcp/processed/drivers/_SUCCESS\n",
      "gs://f1-gcp/processed/drivers/part-00000-8efecf3f-12b4-4162-9431-eed91530a606-c000.snappy.parquet\n"
     ]
    }
   ],
   "source": [
    "!gsutil ls gs://f1-gcp/processed/drivers/"
   ]
  },
  {
   "cell_type": "code",
   "execution_count": 6,
   "metadata": {},
   "outputs": [],
   "source": [
    "job_config = bigquery.LoadJobConfig(source_format = \"PARQUET\", autodetect = True, write_disposition = \"WRITE_TRUNCATE\")"
   ]
  },
  {
   "cell_type": "code",
   "execution_count": 7,
   "metadata": {},
   "outputs": [
    {
     "name": "stdout",
     "output_type": "stream",
     "text": [
      "✅ Table f1-de-gcp.f1.dim_drivers created successfully.\n"
     ]
    }
   ],
   "source": [
    "uri = \"gs://f1-gcp/processed/drivers/part-00000-8efecf3f-12b4-4162-9431-eed91530a606-c000.snappy.parquet\"\n",
    "load_job = client.load_table_from_uri(\n",
    "    uri, table_id, job_config=job_config\n",
    ")  # Make an API request.\n",
    "\n",
    "load_job.result()  # Wait for the job to complete.\n",
    "print(f\"✅ Table {table_id} created successfully.\")"
   ]
  },
  {
   "cell_type": "code",
   "execution_count": 8,
   "metadata": {},
   "outputs": [
    {
     "name": "stdout",
     "output_type": "stream",
     "text": [
      "Loaded 864 rows to table f1-de-gcp.f1.dim_drivers\n"
     ]
    }
   ],
   "source": [
    "table = client.get_table(table_id)\n",
    "print(\"Loaded {} rows to table {}\".format(table.num_rows, table_id))"
   ]
  },
  {
   "cell_type": "code",
   "execution_count": 9,
   "metadata": {},
   "outputs": [
    {
     "name": "stdout",
     "output_type": "stream",
     "text": [
      "('rossi', 53, 'RSS', 'Alexander Rossi', 'American', datetime.date(1991, 9, 25))\n",
      "('sargeant', 2, 'SAR', 'Logan Sargeant', 'American', datetime.date(2000, 12, 31))\n",
      "('speed', None, 'SPE', 'Scott Speed', 'American', datetime.date(1983, 1, 24))\n",
      "('colapinto', 43, 'COL', 'Franco Colapinto', 'Argentinian', datetime.date(2003, 5, 27))\n",
      "('doohan', 61, 'DOO', 'Jack Doohan', 'Australian', datetime.date(2003, 1, 20))\n",
      "('piastri', 81, 'PIA', 'Oscar Piastri', 'Australian', datetime.date(2001, 4, 6))\n",
      "('ricciardo', 3, 'RIC', 'Daniel Ricciardo', 'Australian', datetime.date(1989, 7, 1))\n",
      "('webber', None, 'WEB', 'Mark Webber', 'Australian', datetime.date(1976, 8, 27))\n",
      "('friesacher', None, 'FRI', 'Patrick Friesacher', 'Austrian', datetime.date(1980, 9, 26))\n",
      "('klien', None, 'KLI', 'Christian Klien', 'Austrian', datetime.date(1983, 2, 7))\n"
     ]
    }
   ],
   "source": [
    "# Perform a query.\n",
    "QUERY = (\n",
    "    f'''SELECT * FROM `{project_id}.f1.dim_drivers` LIMIT 10'''\n",
    ")\n",
    "query_job = client.query(QUERY)  # API request\n",
    "rows = query_job.result()  # Waits for query to finish\n",
    "\n",
    "for row in rows:\n",
    "    print(row.values())"
   ]
  }
 ],
 "metadata": {
  "kernelspec": {
   "display_name": "venv",
   "language": "python",
   "name": "python3"
  },
  "language_info": {
   "codemirror_mode": {
    "name": "ipython",
    "version": 3
   },
   "file_extension": ".py",
   "mimetype": "text/x-python",
   "name": "python",
   "nbconvert_exporter": "python",
   "pygments_lexer": "ipython3",
   "version": "3.12.8"
  }
 },
 "nbformat": 4,
 "nbformat_minor": 2
}
