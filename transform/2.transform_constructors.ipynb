{
 "cells": [
  {
   "cell_type": "code",
   "execution_count": 1,
   "metadata": {},
   "outputs": [],
   "source": [
    "from pyspark.sql.functions import col, explode\n",
    "from pyspark.sql import SparkSession\n",
    "from pyspark.sql.types import StructType, StructField, IntegerType, StringType, DoubleType, ArrayType"
   ]
  },
  {
   "cell_type": "code",
   "execution_count": 2,
   "metadata": {},
   "outputs": [],
   "source": [
    "spark = SparkSession.builder \\\n",
    "    .appName(\"F1 Data Pipeline\") \\\n",
    "    .config(\"spark.ui.port\", \"4040\") \\\n",
    "    .config(\"spark.jars\", \"file:///C:/spark/spark-3.5.1-bin-hadoop3/jars/gcs-connector-hadoop3-latest.jar\") \\\n",
    "    .getOrCreate()\n",
    "\n",
    "# Set GCS authentication and filesystem implementation\n",
    "spark.conf.set(\"spark.hadoop.fs.gs.impl\", \"com.google.cloud.hadoop.fs.gcs.GoogleHadoopFileSystem\")\n",
    "spark.conf.set(\"spark.hadoop.fs.AbstractFileSystem.gs.impl\", \"com.google.cloud.hadoop.fs.gcs.GoogleHadoopFS\")\n",
    "spark.conf.set(\"google.cloud.auth.service.account.enable\", \"true\")\n",
    "spark.conf.set(\"google.cloud.auth.service.account.json.keyfile\", \"C:/Users/ACER SWIFT X/Desktop/Projects/F1/f1-de-gcp-7735b3a7392e.json\")\n"
   ]
  },
  {
   "cell_type": "code",
   "execution_count": 3,
   "metadata": {},
   "outputs": [],
   "source": [
    "# Define the schema for the nested \"Location\" field\n",
    "constructors_schema = StructType(fields=[StructField(\"constructorId\", StringType(), False),\n",
    "                                     StructField(\"url\", StringType(), True),\n",
    "                                     StructField(\"name\", StringType(), True),\n",
    "                                     StructField(\"nationality\", StringType(), True)\n",
    "                                     ])"
   ]
  },
  {
   "cell_type": "code",
   "execution_count": 4,
   "metadata": {},
   "outputs": [],
   "source": [
    "constructors_df = spark.read \\\n",
    ".schema(constructors_schema) \\\n",
    ".option(\"multiLine\", True) \\\n",
    ".json(\"gs://f1-gcp/raw/constructors.json\")"
   ]
  },
  {
   "cell_type": "code",
   "execution_count": 5,
   "metadata": {},
   "outputs": [
    {
     "name": "stdout",
     "output_type": "stream",
     "text": [
      "root\n",
      " |-- constructorId: string (nullable = true)\n",
      " |-- url: string (nullable = true)\n",
      " |-- name: string (nullable = true)\n",
      " |-- nationality: string (nullable = true)\n",
      "\n",
      "+--------------+-----------------------------------------------------------------+--------------+-------------+\n",
      "|constructorId |url                                                              |name          |nationality  |\n",
      "+--------------+-----------------------------------------------------------------+--------------+-------------+\n",
      "|adams         |http://en.wikipedia.org/wiki/Adams_(constructor)                 |Adams         |American     |\n",
      "|afm           |http://en.wikipedia.org/wiki/Alex_von_Falkenhausen_Motorenbau    |AFM           |German       |\n",
      "|ags           |http://en.wikipedia.org/wiki/Automobiles_Gonfaronnaises_Sportives|AGS           |French       |\n",
      "|alfa          |http://en.wikipedia.org/wiki/Alfa_Romeo_in_Formula_One           |Alfa Romeo    |Swiss        |\n",
      "|alphatauri    |http://en.wikipedia.org/wiki/Scuderia_AlphaTauri                 |AlphaTauri    |Italian      |\n",
      "|alpine        |http://en.wikipedia.org/wiki/Alpine_F1_Team                      |Alpine F1 Team|French       |\n",
      "|alta          |http://en.wikipedia.org/wiki/Alta_auto_racing_team               |Alta          |British      |\n",
      "|amon          |http://en.wikipedia.org/wiki/Amon_(Formula_One_team)             |Amon          |New Zealander|\n",
      "|apollon       |http://en.wikipedia.org/wiki/Apollon_(Formula_One)               |Apollon       |Swiss        |\n",
      "|arrows        |http://en.wikipedia.org/wiki/Arrows_Grand_Prix_International     |Arrows        |British      |\n",
      "|arzani-volpini|http://en.wikipedia.org/wiki/Arzani-Volpini                      |Arzani-Volpini|Italian      |\n",
      "|aston_martin  |http://en.wikipedia.org/wiki/Aston_Martin_in_Formula_One         |Aston Martin  |British      |\n",
      "|ats           |http://en.wikipedia.org/wiki/ATS_(wheels)                        |ATS           |Italian      |\n",
      "|bar           |http://en.wikipedia.org/wiki/British_American_Racing             |BAR           |British      |\n",
      "|behra-porsche |http://en.wikipedia.org/wiki/Behra-Porsche                       |Behra-Porsche |Italian      |\n",
      "|bellasi       |http://en.wikipedia.org/wiki/Bellasi                             |Bellasi       |Swiss        |\n",
      "|benetton      |http://en.wikipedia.org/wiki/Benetton_Formula                    |Benetton      |Italian      |\n",
      "|bmw           |http://en.wikipedia.org/wiki/BMW                                 |BMW           |German       |\n",
      "|bmw_sauber    |http://en.wikipedia.org/wiki/BMW_Sauber                          |BMW Sauber    |German       |\n",
      "|boro          |http://en.wikipedia.org/wiki/Boro_(Formula_One)                  |Boro          |Dutch        |\n",
      "+--------------+-----------------------------------------------------------------+--------------+-------------+\n",
      "only showing top 20 rows\n",
      "\n"
     ]
    }
   ],
   "source": [
    "constructors_df.printSchema()\n",
    "constructors_df.show(truncate=False)"
   ]
  },
  {
   "cell_type": "code",
   "execution_count": 7,
   "metadata": {},
   "outputs": [
    {
     "name": "stdout",
     "output_type": "stream",
     "text": [
      "+--------------+--------------+-------------+\n",
      "|constructor_id|name          |nationality  |\n",
      "+--------------+--------------+-------------+\n",
      "|adams         |Adams         |American     |\n",
      "|afm           |AFM           |German       |\n",
      "|ags           |AGS           |French       |\n",
      "|alfa          |Alfa Romeo    |Swiss        |\n",
      "|alphatauri    |AlphaTauri    |Italian      |\n",
      "|alpine        |Alpine F1 Team|French       |\n",
      "|alta          |Alta          |British      |\n",
      "|amon          |Amon          |New Zealander|\n",
      "|apollon       |Apollon       |Swiss        |\n",
      "|arrows        |Arrows        |British      |\n",
      "|arzani-volpini|Arzani-Volpini|Italian      |\n",
      "|aston_martin  |Aston Martin  |British      |\n",
      "|ats           |ATS           |Italian      |\n",
      "|bar           |BAR           |British      |\n",
      "|behra-porsche |Behra-Porsche |Italian      |\n",
      "|bellasi       |Bellasi       |Swiss        |\n",
      "|benetton      |Benetton      |Italian      |\n",
      "|bmw           |BMW           |German       |\n",
      "|bmw_sauber    |BMW Sauber    |German       |\n",
      "|boro          |Boro          |Dutch        |\n",
      "+--------------+--------------+-------------+\n",
      "only showing top 20 rows\n",
      "\n"
     ]
    }
   ],
   "source": [
    "constructors_final_df = constructors_df.drop(col(\"url\"))\\\n",
    "                                       .withColumnRenamed(\"constructorId\", \"constructor_id\") \n",
    "\n",
    "constructors_final_df.show(truncate=False)"
   ]
  },
  {
   "cell_type": "code",
   "execution_count": 8,
   "metadata": {},
   "outputs": [
    {
     "name": "stdout",
     "output_type": "stream",
     "text": [
      "root\n",
      " |-- constructor_id: string (nullable = true)\n",
      " |-- name: string (nullable = true)\n",
      " |-- nationality: string (nullable = true)\n",
      "\n"
     ]
    }
   ],
   "source": [
    "constructors_final_df.printSchema()"
   ]
  },
  {
   "cell_type": "code",
   "execution_count": 9,
   "metadata": {},
   "outputs": [],
   "source": [
    "constructors_final_df.write.mode(\"overwrite\").format(\"parquet\").save(\"gs://f1-gcp/processed/constructors/\")"
   ]
  },
  {
   "cell_type": "code",
   "execution_count": 10,
   "metadata": {},
   "outputs": [
    {
     "name": "stdout",
     "output_type": "stream",
     "text": [
      "+--------------+--------------+-------------+\n",
      "|constructor_id|          name|  nationality|\n",
      "+--------------+--------------+-------------+\n",
      "|         adams|         Adams|     American|\n",
      "|           afm|           AFM|       German|\n",
      "|           ags|           AGS|       French|\n",
      "|          alfa|    Alfa Romeo|        Swiss|\n",
      "|    alphatauri|    AlphaTauri|      Italian|\n",
      "|        alpine|Alpine F1 Team|       French|\n",
      "|          alta|          Alta|      British|\n",
      "|          amon|          Amon|New Zealander|\n",
      "|       apollon|       Apollon|        Swiss|\n",
      "|        arrows|        Arrows|      British|\n",
      "|arzani-volpini|Arzani-Volpini|      Italian|\n",
      "|  aston_martin|  Aston Martin|      British|\n",
      "|           ats|           ATS|      Italian|\n",
      "|           bar|           BAR|      British|\n",
      "| behra-porsche| Behra-Porsche|      Italian|\n",
      "|       bellasi|       Bellasi|        Swiss|\n",
      "|      benetton|      Benetton|      Italian|\n",
      "|           bmw|           BMW|       German|\n",
      "|    bmw_sauber|    BMW Sauber|       German|\n",
      "|          boro|          Boro|        Dutch|\n",
      "+--------------+--------------+-------------+\n",
      "only showing top 20 rows\n",
      "\n"
     ]
    }
   ],
   "source": [
    "spark.read.parquet(\"gs://f1-gcp/processed/constructors/\").show()"
   ]
  },
  {
   "cell_type": "code",
   "execution_count": 11,
   "metadata": {},
   "outputs": [],
   "source": [
    "spark.stop()"
   ]
  }
 ],
 "metadata": {
  "kernelspec": {
   "display_name": "venv",
   "language": "python",
   "name": "python3"
  },
  "language_info": {
   "codemirror_mode": {
    "name": "ipython",
    "version": 3
   },
   "file_extension": ".py",
   "mimetype": "text/x-python",
   "name": "python",
   "nbconvert_exporter": "python",
   "pygments_lexer": "ipython3",
   "version": "3.12.8"
  }
 },
 "nbformat": 4,
 "nbformat_minor": 2
}
