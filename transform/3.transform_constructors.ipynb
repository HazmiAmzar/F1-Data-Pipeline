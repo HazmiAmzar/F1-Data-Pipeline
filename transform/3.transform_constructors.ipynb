{
 "cells": [
  {
   "cell_type": "code",
   "execution_count": 1,
   "metadata": {},
   "outputs": [],
   "source": [
    "from pyspark.sql.functions import col, explode\n",
    "from pyspark.sql import SparkSession\n",
    "from pyspark.sql.types import StructType, StructField, IntegerType, StringType, DoubleType, ArrayType"
   ]
  },
  {
   "cell_type": "code",
   "execution_count": null,
   "metadata": {},
   "outputs": [],
   "source": [
    "spark = SparkSession.builder \\\n",
    "    .appName(\"F1 Data Pipeline\") \\\n",
    "    .config(\"spark.ui.port\", \"4040\") \\\n",
    "    .config(\"spark.jars\", \"file:///C:/spark/spark-3.5.1-bin-hadoop3/jars/gcs-connector-hadoop3-latest.jar\") \\\n",
    "    .getOrCreate()\n",
    "\n",
    "# Set GCS authentication and filesystem implementation\n",
    "spark.conf.set(\"spark.hadoop.fs.gs.impl\", \"com.google.cloud.hadoop.fs.gcs.GoogleHadoopFileSystem\")\n",
    "spark.conf.set(\"spark.hadoop.fs.AbstractFileSystem.gs.impl\", \"com.google.cloud.hadoop.fs.gcs.GoogleHadoopFS\")\n",
    "spark.conf.set(\"google.cloud.auth.service.account.enable\", \"true\")\n",
    "spark.conf.set(\"google.cloud.auth.service.account.json.keyfile\", \"C:/Users/ACER SWIFT X/Desktop/Projects/F1/f1-de-gcp-7735b3a7392e.json\")\n"
   ]
  },
  {
   "cell_type": "code",
   "execution_count": 3,
   "metadata": {},
   "outputs": [],
   "source": [
    "# Define the schema for the nested \"Location\" field\n",
    "constructor_schema = StructType(fields=[StructField(\"constructorId\", StringType(), False),\n",
    "                                     StructField(\"url\", StringType(), True),\n",
    "                                     StructField(\"name\", StringType(), True),\n",
    "                                     StructField(\"nationality\", StringType(), True)\n",
    "])\n",
    "\n",
    "constructors_schema = StructType(fields=[StructField(\"season\", StringType(), False),\n",
    "                                     StructField(\"Constructors\", ArrayType(constructor_schema))\n",
    "])"
   ]
  },
  {
   "cell_type": "code",
   "execution_count": 4,
   "metadata": {},
   "outputs": [],
   "source": [
    "constructors_df = spark.read \\\n",
    ".schema(constructors_schema) \\\n",
    ".option(\"multiLine\", True) \\\n",
    ".json(\"gs://f1-gcp/raw/constructors.json\")"
   ]
  },
  {
   "cell_type": "code",
   "execution_count": 5,
   "metadata": {},
   "outputs": [
    {
     "name": "stdout",
     "output_type": "stream",
     "text": [
      "root\n",
      " |-- season: string (nullable = true)\n",
      " |-- Constructors: array (nullable = true)\n",
      " |    |-- element: struct (containsNull = true)\n",
      " |    |    |-- constructorId: string (nullable = true)\n",
      " |    |    |-- url: string (nullable = true)\n",
      " |    |    |-- name: string (nullable = true)\n",
      " |    |    |-- nationality: string (nullable = true)\n",
      "\n",
      "+------+-------------------------------------------------------------------------------------------------------------------------------------------------------------------------------------------------------------------------------------------------------------------------------------------------------------------------------------------------------------------------------------------------------------------------------------------------------------------------------------------------------------------------------------------------------------------------------------------------------------------------------------------------------------------------------------------------------------------------------------------------------------------------------------------------------------------------------------------------------------------------------------------------------------------------------------------------------------------------------------------------------------------------------------------------------------------------------------------------------------------------------------------------------------------------------------------------------------------------------------------------------------------------------------------------------------------------------------------------------------------------------------------------------------------------------------------------------------------------------------------------------------------------------------------------------------------------------------------------------------------------------------------------------------------------------------------------------------------------------------------------------------------------------------------------------------------------------------------------------------------------------------------------------------------------------------------------------------------------------------------------------------------------------------------------------------------------------------------+\n",
      "|season|Constructors                                                                                                                                                                                                                                                                                                                                                                                                                                                                                                                                                                                                                                                                                                                                                                                                                                                                                                                                                                                                                                                                                                                                                                                                                                                                                                                                                                                                                                                                                                                                                                                                                                                                                                                                                                                                                                                                                                                                                                                                                                                                               |\n",
      "+------+-------------------------------------------------------------------------------------------------------------------------------------------------------------------------------------------------------------------------------------------------------------------------------------------------------------------------------------------------------------------------------------------------------------------------------------------------------------------------------------------------------------------------------------------------------------------------------------------------------------------------------------------------------------------------------------------------------------------------------------------------------------------------------------------------------------------------------------------------------------------------------------------------------------------------------------------------------------------------------------------------------------------------------------------------------------------------------------------------------------------------------------------------------------------------------------------------------------------------------------------------------------------------------------------------------------------------------------------------------------------------------------------------------------------------------------------------------------------------------------------------------------------------------------------------------------------------------------------------------------------------------------------------------------------------------------------------------------------------------------------------------------------------------------------------------------------------------------------------------------------------------------------------------------------------------------------------------------------------------------------------------------------------------------------------------------------------------------------+\n",
      "|1950  |[{adams, http://en.wikipedia.org/wiki/Adams_(constructor), Adams, American}, {alfa, http://en.wikipedia.org/wiki/Alfa_Romeo_in_Formula_One, Alfa Romeo, Swiss}, {alta, http://en.wikipedia.org/wiki/Alta_auto_racing_team, Alta, British}, {cooper, http://en.wikipedia.org/wiki/Cooper_Car_Company, Cooper, British}, {deidt, http://en.wikipedia.org/wiki/Deidt, Deidt, American}, {era, http://en.wikipedia.org/wiki/English_Racing_Automobiles, ERA, British}, {ewing, http://en.wikipedia.org/wiki/Ewing_(constructor), Ewing, American}, {ferrari, http://en.wikipedia.org/wiki/Scuderia_Ferrari, Ferrari, Italian}, {kurtis_kraft, http://en.wikipedia.org/wiki/Kurtis_Kraft, Kurtis Kraft, American}, {lago, http://en.wikipedia.org/wiki/Talbot-Lago, Talbot-Lago, French}, {langley, http://en.wikipedia.org/wiki/Langley_(constructor), Langley, American}, {lesovsky, http://en.wikipedia.org/wiki/Lesovsky, Lesovsky, American}, {marchese, http://en.wikipedia.org/wiki/Marchese_(constructor), Marchese, American}, {maserati, http://en.wikipedia.org/wiki/Maserati, Maserati, Italian}, {milano, http://en.wikipedia.org/wiki/Scuderia_Milano, Milano, Italian}, {moore, http://en.wikipedia.org/wiki/Moore_(constructor), Moore, American}, {nichels, http://en.wikipedia.org/wiki/Nichels, Nichels, American}, {olson, http://en.wikipedia.org/wiki/Olson_(constructor), Olson, American}, {rae, http://en.wikipedia.org/wiki/Rae_(motorsport), Rae, American}, {simca, http://en.wikipedia.org/wiki/Simca, Simca, French}, {snowberger, http://en.wikipedia.org/wiki/Snowberger, Snowberger, American}, {stevens, http://en.wikipedia.org/wiki/Stevens_(constructor), Stevens, American}, {watson, http://en.wikipedia.org/wiki/A.J._Watson, Watson, American}, {wetteroth, http://en.wikipedia.org/wiki/Wetteroth, Wetteroth, American}]                                                                                                                                                                                                                              |\n",
      "|1951  |[{alfa, http://en.wikipedia.org/wiki/Alfa_Romeo_in_Formula_One, Alfa Romeo, Swiss}, {alta, http://en.wikipedia.org/wiki/Alta_auto_racing_team, Alta, British}, {brm, http://en.wikipedia.org/wiki/BRM, BRM, British}, {bromme, http://en.wikipedia.org/wiki/Bromme, Bromme, American}, {deidt, http://en.wikipedia.org/wiki/Deidt, Deidt, American}, {era, http://en.wikipedia.org/wiki/English_Racing_Automobiles, ERA, British}, {ferrari, http://en.wikipedia.org/wiki/Scuderia_Ferrari, Ferrari, Italian}, {hall, http://en.wikipedia.org/wiki/Hall_(constructor), Hall, American}, {hwm, http://en.wikipedia.org/wiki/Hersham_and_Walton_Motors, HWM, British}, {kurtis_kraft, http://en.wikipedia.org/wiki/Kurtis_Kraft, Kurtis Kraft, American}, {kuzma, http://en.wikipedia.org/wiki/Kuzma_(constructor), Kuzma, American}, {lago, http://en.wikipedia.org/wiki/Talbot-Lago, Talbot-Lago, French}, {lesovsky, http://en.wikipedia.org/wiki/Lesovsky, Lesovsky, American}, {marchese, http://en.wikipedia.org/wiki/Marchese_(constructor), Marchese, American}, {maserati, http://en.wikipedia.org/wiki/Maserati, Maserati, Italian}, {moore, http://en.wikipedia.org/wiki/Moore_(constructor), Moore, American}, {osca, http://en.wikipedia.org/wiki/Officine_Specializate_Costruzione_Automobili, OSCA, Italian}, {pawl, http://en.wikipedia.org/wiki/Pawl_(constructor), Pawl, American}, {schroeder, http://en.wikipedia.org/wiki/Schroeder_(constructor), Schroeder, American}, {sherman, http://en.wikipedia.org/wiki/Sherman_(constructor), Sherman, American}, {simca, http://en.wikipedia.org/wiki/Simca, Simca, French}, {trevis, http://en.wikipedia.org/wiki/Trevis, Trevis, American}, {veritas, http://en.wikipedia.org/wiki/Veritas_(constructor), Veritas, German}, {watson, http://en.wikipedia.org/wiki/A.J._Watson, Watson, American}]                                                                                                                                                                                                                           |\n",
      "|1952  |[{afm, http://en.wikipedia.org/wiki/Alex_von_Falkenhausen_Motorenbau, AFM, German}, {alta, http://en.wikipedia.org/wiki/Alta_auto_racing_team, Alta, British}, {bmw, http://en.wikipedia.org/wiki/BMW, BMW, German}, {bromme, http://en.wikipedia.org/wiki/Bromme, Bromme, American}, {butterworth, http://en.wikipedia.org/wiki/Aston_Butterworth, Aston Butterworth, British}, {cisitalia, http://en.wikipedia.org/wiki/Cisitalia, Cisitalia, Italian}, {connaught, http://en.wikipedia.org/wiki/Connaught_Engineering, Connaught, British}, {cooper, http://en.wikipedia.org/wiki/Cooper_Car_Company, Cooper, British}, {deidt, http://en.wikipedia.org/wiki/Deidt, Deidt, American}, {era, http://en.wikipedia.org/wiki/English_Racing_Automobiles, ERA, British}, {ferrari, http://en.wikipedia.org/wiki/Scuderia_Ferrari, Ferrari, Italian}, {frazer_nash, http://en.wikipedia.org/wiki/Frazer_Nash, Frazer Nash, British}, {gordini, http://en.wikipedia.org/wiki/Gordini, Gordini, French}, {hwm, http://en.wikipedia.org/wiki/Hersham_and_Walton_Motors, HWM, British}, {kurtis_kraft, http://en.wikipedia.org/wiki/Kurtis_Kraft, Kurtis Kraft, American}, {kuzma, http://en.wikipedia.org/wiki/Kuzma_(constructor), Kuzma, American}, {lesovsky, http://en.wikipedia.org/wiki/Lesovsky, Lesovsky, American}, {maserati, http://en.wikipedia.org/wiki/Maserati, Maserati, Italian}, {osca, http://en.wikipedia.org/wiki/Officine_Specializate_Costruzione_Automobili, OSCA, Italian}, {sherman, http://en.wikipedia.org/wiki/Sherman_(constructor), Sherman, American}, {simca, http://en.wikipedia.org/wiki/Simca, Simca, French}, {stevens, http://en.wikipedia.org/wiki/Stevens_(constructor), Stevens, American}, {trevis, http://en.wikipedia.org/wiki/Trevis, Trevis, American}, {veritas, http://en.wikipedia.org/wiki/Veritas_(constructor), Veritas, German}, {watson, http://en.wikipedia.org/wiki/A.J._Watson, Watson, American}]                                                                                                                                      |\n",
      "|1953  |[{afm, http://en.wikipedia.org/wiki/Alex_von_Falkenhausen_Motorenbau, AFM, German}, {bmw, http://en.wikipedia.org/wiki/BMW, BMW, German}, {bromme, http://en.wikipedia.org/wiki/Bromme, Bromme, American}, {connaught, http://en.wikipedia.org/wiki/Connaught_Engineering, Connaught, British}, {cooper, http://en.wikipedia.org/wiki/Cooper_Car_Company, Cooper, British}, {del_roy, http://en.wikipedia.org/wiki/Del_Roy, Del Roy, American}, {emw, http://en.wikipedia.org/wiki/Eisenacher_Motorenwerk, EMW, East German}, {ferrari, http://en.wikipedia.org/wiki/Scuderia_Ferrari, Ferrari, Italian}, {gordini, http://en.wikipedia.org/wiki/Gordini, Gordini, French}, {hwm, http://en.wikipedia.org/wiki/Hersham_and_Walton_Motors, HWM, British}, {kurtis_kraft, http://en.wikipedia.org/wiki/Kurtis_Kraft, Kurtis Kraft, American}, {kuzma, http://en.wikipedia.org/wiki/Kuzma_(constructor), Kuzma, American}, {lesovsky, http://en.wikipedia.org/wiki/Lesovsky, Lesovsky, American}, {maserati, http://en.wikipedia.org/wiki/Maserati, Maserati, Italian}, {osca, http://en.wikipedia.org/wiki/Officine_Specializate_Costruzione_Automobili, OSCA, Italian}, {schroeder, http://en.wikipedia.org/wiki/Schroeder_(constructor), Schroeder, American}, {simca, http://en.wikipedia.org/wiki/Simca, Simca, French}, {stevens, http://en.wikipedia.org/wiki/Stevens_(constructor), Stevens, American}, {turner, http://en.wikipedia.org/wiki/Turner_(constructor), Turner, American}, {veritas, http://en.wikipedia.org/wiki/Veritas_(constructor), Veritas, German}, {watson, http://en.wikipedia.org/wiki/A.J._Watson, Watson, American}]                                                                                                                                                                                                                                                                                                                                                                                                                                          |\n",
      "|1954  |[{bromme, http://en.wikipedia.org/wiki/Bromme, Bromme, American}, {connaught, http://en.wikipedia.org/wiki/Connaught_Engineering, Connaught, British}, {cooper, http://en.wikipedia.org/wiki/Cooper_Car_Company, Cooper, British}, {ferrari, http://en.wikipedia.org/wiki/Scuderia_Ferrari, Ferrari, Italian}, {gordini, http://en.wikipedia.org/wiki/Gordini, Gordini, French}, {hwm, http://en.wikipedia.org/wiki/Hersham_and_Walton_Motors, HWM, British}, {klenk, http://en.wikipedia.org/wiki/Klenk, Klenk, German}, {kurtis_kraft, http://en.wikipedia.org/wiki/Kurtis_Kraft, Kurtis Kraft, American}, {kuzma, http://en.wikipedia.org/wiki/Kuzma_(constructor), Kuzma, American}, {lancia, http://en.wikipedia.org/wiki/Lancia_in_Formula_One, Lancia, Italian}, {maserati, http://en.wikipedia.org/wiki/Maserati, Maserati, Italian}, {mercedes, http://en.wikipedia.org/wiki/Mercedes-Benz_in_Formula_One, Mercedes, German}, {nichels, http://en.wikipedia.org/wiki/Nichels, Nichels, American}, {pankratz, http://en.wikipedia.org/wiki/Pankratz, Pankratz, American}, {pawl, http://en.wikipedia.org/wiki/Pawl_(constructor), Pawl, American}, {phillips, http://en.wikipedia.org/wiki/Phillips_(constructor), Phillips, American}, {schroeder, http://en.wikipedia.org/wiki/Schroeder_(constructor), Schroeder, American}, {stevens, http://en.wikipedia.org/wiki/Stevens_(constructor), Stevens, American}, {vanwall, http://en.wikipedia.org/wiki/Vanwall, Vanwall, British}]                                                                                                                                                                                                                                                                                                                                                                                                                                                                                                                                                                                               |\n",
      "|1955  |[{arzani-volpini, http://en.wikipedia.org/wiki/Arzani-Volpini, Arzani-Volpini, Italian}, {connaught, http://en.wikipedia.org/wiki/Connaught_Engineering, Connaught, British}, {cooper, http://en.wikipedia.org/wiki/Cooper_Car_Company, Cooper, British}, {epperly, http://en.wikipedia.org/wiki/Epperly, Epperly, American}, {ferrari, http://en.wikipedia.org/wiki/Scuderia_Ferrari, Ferrari, Italian}, {gordini, http://en.wikipedia.org/wiki/Gordini, Gordini, French}, {hwm, http://en.wikipedia.org/wiki/Hersham_and_Walton_Motors, HWM, British}, {kurtis_kraft, http://en.wikipedia.org/wiki/Kurtis_Kraft, Kurtis Kraft, American}, {kuzma, http://en.wikipedia.org/wiki/Kuzma_(constructor), Kuzma, American}, {lancia, http://en.wikipedia.org/wiki/Lancia_in_Formula_One, Lancia, Italian}, {maserati, http://en.wikipedia.org/wiki/Maserati, Maserati, Italian}, {mercedes, http://en.wikipedia.org/wiki/Mercedes-Benz_in_Formula_One, Mercedes, German}, {pankratz, http://en.wikipedia.org/wiki/Pankratz, Pankratz, American}, {pawl, http://en.wikipedia.org/wiki/Pawl_(constructor), Pawl, American}, {phillips, http://en.wikipedia.org/wiki/Phillips_(constructor), Phillips, American}, {schroeder, http://en.wikipedia.org/wiki/Schroeder_(constructor), Schroeder, American}, {stevens, http://en.wikipedia.org/wiki/Stevens_(constructor), Stevens, American}, {trevis, http://en.wikipedia.org/wiki/Trevis, Trevis, American}, {vanwall, http://en.wikipedia.org/wiki/Vanwall, Vanwall, British}]                                                                                                                                                                                                                                                                                                                                                                                                                                                                                                                                                                   |\n",
      "|1956  |[{brm, http://en.wikipedia.org/wiki/BRM, BRM, British}, {bugatti, http://en.wikipedia.org/wiki/Bugatti, Bugatti, French}, {connaught, http://en.wikipedia.org/wiki/Connaught_Engineering, Connaught, British}, {cooper, http://en.wikipedia.org/wiki/Cooper_Car_Company, Cooper, British}, {emeryson, http://en.wikipedia.org/wiki/Emeryson, Emeryson, British}, {ferrari, http://en.wikipedia.org/wiki/Scuderia_Ferrari, Ferrari, Italian}, {gordini, http://en.wikipedia.org/wiki/Gordini, Gordini, French}, {kurtis_kraft, http://en.wikipedia.org/wiki/Kurtis_Kraft, Kurtis Kraft, American}, {kuzma, http://en.wikipedia.org/wiki/Kuzma_(constructor), Kuzma, American}, {lesovsky, http://en.wikipedia.org/wiki/Lesovsky, Lesovsky, American}, {maserati, http://en.wikipedia.org/wiki/Maserati, Maserati, Italian}, {phillips, http://en.wikipedia.org/wiki/Phillips_(constructor), Phillips, American}, {stevens, http://en.wikipedia.org/wiki/Stevens_(constructor), Stevens, American}, {vanwall, http://en.wikipedia.org/wiki/Vanwall, Vanwall, British}, {watson, http://en.wikipedia.org/wiki/A.J._Watson, Watson, American}]                                                                                                                                                                                                                                                                                                                                                                                                                                                                                                                                                                                                                                                                                                                                                                                                                                                                                                                                                 |\n",
      "|1957  |[{brm, http://en.wikipedia.org/wiki/BRM, BRM, British}, {connaught, http://en.wikipedia.org/wiki/Connaught_Engineering, Connaught, British}, {cooper, http://en.wikipedia.org/wiki/Cooper_Car_Company, Cooper, British}, {dunn, http://en.wikipedia.org/wiki/Dunn_Engineering, Dunn, American}, {epperly, http://en.wikipedia.org/wiki/Epperly, Epperly, American}, {ferrari, http://en.wikipedia.org/wiki/Scuderia_Ferrari, Ferrari, Italian}, {kurtis_kraft, http://en.wikipedia.org/wiki/Kurtis_Kraft, Kurtis Kraft, American}, {kuzma, http://en.wikipedia.org/wiki/Kuzma_(constructor), Kuzma, American}, {lesovsky, http://en.wikipedia.org/wiki/Lesovsky, Lesovsky, American}, {maserati, http://en.wikipedia.org/wiki/Maserati, Maserati, Italian}, {phillips, http://en.wikipedia.org/wiki/Phillips_(constructor), Phillips, American}, {porsche, http://en.wikipedia.org/wiki/Porsche_in_Formula_One, Porsche, German}, {vanwall, http://en.wikipedia.org/wiki/Vanwall, Vanwall, British}, {watson, http://en.wikipedia.org/wiki/A.J._Watson, Watson, American}]                                                                                                                                                                                                                                                                                                                                                                                                                                                                                                                                                                                                                                                                                                                                                                                                                                                                                                                                                                                                                 |\n",
      "|1958  |[{brm, http://en.wikipedia.org/wiki/BRM, BRM, British}, {connaught, http://en.wikipedia.org/wiki/Connaught_Engineering, Connaught, British}, {cooper, http://en.wikipedia.org/wiki/Cooper_Car_Company, Cooper, British}, {dunn, http://en.wikipedia.org/wiki/Dunn_Engineering, Dunn, American}, {epperly, http://en.wikipedia.org/wiki/Epperly, Epperly, American}, {ferrari, http://en.wikipedia.org/wiki/Scuderia_Ferrari, Ferrari, Italian}, {kurtis_kraft, http://en.wikipedia.org/wiki/Kurtis_Kraft, Kurtis Kraft, American}, {kuzma, http://en.wikipedia.org/wiki/Kuzma_(constructor), Kuzma, American}, {lesovsky, http://en.wikipedia.org/wiki/Lesovsky, Lesovsky, American}, {maserati, http://en.wikipedia.org/wiki/Maserati, Maserati, Italian}, {osca, http://en.wikipedia.org/wiki/Officine_Specializate_Costruzione_Automobili, OSCA, Italian}, {phillips, http://en.wikipedia.org/wiki/Phillips_(constructor), Phillips, American}, {porsche, http://en.wikipedia.org/wiki/Porsche_in_Formula_One, Porsche, German}, {team_lotus, http://en.wikipedia.org/wiki/Team_Lotus, Team Lotus, British}, {vanwall, http://en.wikipedia.org/wiki/Vanwall, Vanwall, British}, {watson, http://en.wikipedia.org/wiki/A.J._Watson, Watson, American}]                                                                                                                                                                                                                                                                                                                                                                                                                                                                                                                                                                                                                                                                                                                                                                                                                                   |\n",
      "|1959  |[{aston_martin, http://en.wikipedia.org/wiki/Aston_Martin_in_Formula_One, Aston Martin, British}, {brm, http://en.wikipedia.org/wiki/BRM, BRM, British}, {connaught, http://en.wikipedia.org/wiki/Connaught_Engineering, Connaught, British}, {cooper-borgward, http://en.wikipedia.org/wiki/Cooper_Car_Company, Cooper-Borgward, British}, {cooper-climax, http://en.wikipedia.org/wiki/Cooper_Car_Company, Cooper-Climax, British}, {cooper-maserati, http://en.wikipedia.org/wiki/Cooper_Car_Company, Cooper-Maserati, British}, {cooper-osca, http://en.wikipedia.org/wiki/Cooper_Car_Company, Cooper-OSCA, British}, {dunn, http://en.wikipedia.org/wiki/Dunn_Engineering, Dunn, American}, {elder, http://en.wikipedia.org/wiki/Elder_(constructor), Elder, American}, {epperly, http://en.wikipedia.org/wiki/Epperly, Epperly, American}, {ferrari, http://en.wikipedia.org/wiki/Scuderia_Ferrari, Ferrari, Italian}, {fry, http://en.wikipedia.org/wiki/Fry_(racing_team), Fry, British}, {jbw, http://en.wikipedia.org/wiki/JBW, JBW, British}, {kurtis_kraft, http://en.wikipedia.org/wiki/Kurtis_Kraft, Kurtis Kraft, American}, {kuzma, http://en.wikipedia.org/wiki/Kuzma_(constructor), Kuzma, American}, {lesovsky, http://en.wikipedia.org/wiki/Lesovsky, Lesovsky, American}, {maserati, http://en.wikipedia.org/wiki/Maserati, Maserati, Italian}, {moore, http://en.wikipedia.org/wiki/Moore_(constructor), Moore, American}, {phillips, http://en.wikipedia.org/wiki/Phillips_(constructor), Phillips, American}, {porsche, http://en.wikipedia.org/wiki/Porsche_in_Formula_One, Porsche, German}, {sutton, http://en.wikipedia.org/wiki/Sutton_(constructor), Sutton, American}, {team_lotus, http://en.wikipedia.org/wiki/Team_Lotus, Team Lotus, British}, {tec-mec, http://en.wikipedia.org/wiki/Tec-Mec, Tec-Mec, Italian}, {vanwall, http://en.wikipedia.org/wiki/Vanwall, Vanwall, British}, {vhristensen, http://en.wikipedia.org/wiki/Christensen_(constructor), Christensen, American}, {watson, http://en.wikipedia.org/wiki/A.J._Watson, Watson, American}]|\n",
      "|1960  |[{aston_martin, http://en.wikipedia.org/wiki/Aston_Martin_in_Formula_One, Aston Martin, British}, {behra-porsche, http://en.wikipedia.org/wiki/Behra-Porsche, Behra-Porsche, Italian}, {brm, http://en.wikipedia.org/wiki/BRM, BRM, British}, {cooper-castellotti, http://en.wikipedia.org/wiki/Cooper_Car_Company, Cooper-Castellotti, British}, {cooper-climax, http://en.wikipedia.org/wiki/Cooper_Car_Company, Cooper-Climax, British}, {cooper-maserati, http://en.wikipedia.org/wiki/Cooper_Car_Company, Cooper-Maserati, British}, {epperly, http://en.wikipedia.org/wiki/Epperly, Epperly, American}, {ewing, http://en.wikipedia.org/wiki/Ewing_(constructor), Ewing, American}, {ferrari, http://en.wikipedia.org/wiki/Scuderia_Ferrari, Ferrari, Italian}, {jbw, http://en.wikipedia.org/wiki/JBW, JBW, British}, {kurtis_kraft, http://en.wikipedia.org/wiki/Kurtis_Kraft, Kurtis Kraft, American}, {kuzma, http://en.wikipedia.org/wiki/Kuzma_(constructor), Kuzma, American}, {lesovsky, http://en.wikipedia.org/wiki/Lesovsky, Lesovsky, American}, {maserati, http://en.wikipedia.org/wiki/Maserati, Maserati, Italian}, {meskowski, http://en.wikipedia.org/wiki/Meskowski, Meskowski, American}, {phillips, http://en.wikipedia.org/wiki/Phillips_(constructor), Phillips, American}, {porsche, http://en.wikipedia.org/wiki/Porsche_in_Formula_One, Porsche, German}, {scarab, http://en.wikipedia.org/wiki/Scarab_(constructor), Scarab, American}, {team_lotus, http://en.wikipedia.org/wiki/Team_Lotus, Team Lotus, British}, {trevis, http://en.wikipedia.org/wiki/Trevis, Trevis, American}, {vanwall, http://en.wikipedia.org/wiki/Vanwall, Vanwall, British}, {vhristensen, http://en.wikipedia.org/wiki/Christensen_(constructor), Christensen, American}, {watson, http://en.wikipedia.org/wiki/A.J._Watson, Watson, American}]                                                                                                                                                                                                                                |\n",
      "|1961  |[{brm, http://en.wikipedia.org/wiki/BRM, BRM, British}, {cooper-climax, http://en.wikipedia.org/wiki/Cooper_Car_Company, Cooper-Climax, British}, {cooper-maserati, http://en.wikipedia.org/wiki/Cooper_Car_Company, Cooper-Maserati, British}, {de_tomaso-alfa_romeo, http://en.wikipedia.org/wiki/De_Tomaso, De Tomaso-Alfa Romeo, Italian}, {de_tomaso-osca, http://en.wikipedia.org/wiki/De_Tomaso, De Tomaso-Osca, Italian}, {emeryson, http://en.wikipedia.org/wiki/Emeryson, Emeryson, British}, {ferguson, http://en.wikipedia.org/wiki/Ferguson_Research_Ltd., Ferguson, British}, {ferrari, http://en.wikipedia.org/wiki/Scuderia_Ferrari, Ferrari, Italian}, {gilby, http://en.wikipedia.org/wiki/Gilby, Gilby, British}, {jbw, http://en.wikipedia.org/wiki/JBW, JBW, British}, {lotus-climax, http://en.wikipedia.org/wiki/Team_Lotus, Lotus-Climax, British}, {lotus-maserati, http://en.wikipedia.org/wiki/Team_Lotus, Lotus-Maserati, British}, {mbm, http://en.wikipedia.org/wiki/Monteverdi_Basel_Motors, MBM, Swiss}, {porsche, http://en.wikipedia.org/wiki/Porsche_in_Formula_One, Porsche, German}]                                                                                                                                                                                                                                                                                                                                                                                                                                                                                                                                                                                                                                                                                                                                                                                                                                                                                                                                                                  |\n",
      "|1962  |[{brabham, http://en.wikipedia.org/wiki/Brabham, Brabham, British}, {brm, http://en.wikipedia.org/wiki/BRM, BRM, British}, {cooper, http://en.wikipedia.org/wiki/Cooper_Car_Company, Cooper, British}, {cooper-alfa_romeo, http://en.wikipedia.org/wiki/Cooper_Car_Company, Cooper-Alfa Romeo, British}, {cooper-climax, http://en.wikipedia.org/wiki/Cooper_Car_Company, Cooper-Climax, British}, {de_tomaso-alfa_romeo, http://en.wikipedia.org/wiki/De_Tomaso, De Tomaso-Alfa Romeo, Italian}, {de_tomaso-osca, http://en.wikipedia.org/wiki/De_Tomaso, De Tomaso-Osca, Italian}, {emeryson, http://en.wikipedia.org/wiki/Emeryson, Emeryson, British}, {enb, http://en.wikipedia.org/wiki/Ecurie_Nationale_Belge, ENB, Belgian}, {ferrari, http://en.wikipedia.org/wiki/Scuderia_Ferrari, Ferrari, Italian}, {gilby, http://en.wikipedia.org/wiki/Gilby, Gilby, British}, {lds, http://en.wikipedia.org/wiki/LDS_(automobile), LDS, South African}, {lola, http://en.wikipedia.org/wiki/MasterCard_Lola, Lola, British}, {lotus-borgward, http://en.wikipedia.org/wiki/Team_Lotus, Lotus-Borgward, British}, {lotus-brm, http://en.wikipedia.org/wiki/Team_Lotus, Lotus-BRM, British}, {lotus-climax, http://en.wikipedia.org/wiki/Team_Lotus, Lotus-Climax, British}, {porsche, http://en.wikipedia.org/wiki/Porsche_in_Formula_One, Porsche, German}, {team_lotus, http://en.wikipedia.org/wiki/Team_Lotus, Team Lotus, British}, {tomaso, http://en.wikipedia.org/wiki/De_Tomaso, De Tomaso, Italian}]                                                                                                                                                                                                                                                                                                                                                                                                                                                                                                                                                                              |\n",
      "|1963  |[{alfa, http://en.wikipedia.org/wiki/Alfa_Romeo_in_Formula_One, Alfa Romeo, Swiss}, {ats, http://en.wikipedia.org/wiki/ATS_(wheels), ATS, Italian}, {brabham, http://en.wikipedia.org/wiki/Brabham, Brabham, British}, {brm, http://en.wikipedia.org/wiki/BRM, BRM, British}, {brp, http://en.wikipedia.org/wiki/British_Racing_Partnership, BRP, British}, {cooper-climax, http://en.wikipedia.org/wiki/Cooper_Car_Company, Cooper-Climax, British}, {cooper-maserati, http://en.wikipedia.org/wiki/Cooper_Car_Company, Cooper-Maserati, British}, {de_tomaso-ferrari, http://en.wikipedia.org/wiki/De_Tomaso, De Tomaso-Ferrari, Italian}, {ferrari, http://en.wikipedia.org/wiki/Scuderia_Ferrari, Ferrari, Italian}, {gilby, http://en.wikipedia.org/wiki/Gilby, Gilby, British}, {lds, http://en.wikipedia.org/wiki/LDS_(automobile), LDS, South African}, {lola, http://en.wikipedia.org/wiki/MasterCard_Lola, Lola, British}, {lotus-borgward, http://en.wikipedia.org/wiki/Team_Lotus, Lotus-Borgward, British}, {lotus-brm, http://en.wikipedia.org/wiki/Team_Lotus, Lotus-BRM, British}, {lotus-climax, http://en.wikipedia.org/wiki/Team_Lotus, Lotus-Climax, British}, {lotus-ford, http://en.wikipedia.org/wiki/Team_Lotus, Lotus-Ford, British}, {lotus-maserati, http://en.wikipedia.org/wiki/Team_Lotus, Lotus-Maserati, British}, {porsche, http://en.wikipedia.org/wiki/Porsche_in_Formula_One, Porsche, German}, {scirocco, http://en.wikipedia.org/wiki/Scirocco-Powell, Scirocco, British}, {stebro, http://en.wikipedia.org/wiki/Stebro, Stebro, Canadian}, {team_lotus, http://en.wikipedia.org/wiki/Team_Lotus, Team Lotus, British}, {tomaso, http://en.wikipedia.org/wiki/De_Tomaso, De Tomaso, Italian}]                                                                                                                                                                                                                                                                                                                                                        |\n",
      "|1964  |[{brabham-brm, http://en.wikipedia.org/wiki/Brabham, Brabham-BRM, British}, {brabham-climax, http://en.wikipedia.org/wiki/Brabham, Brabham-Climax, British}, {brabham-ford, http://en.wikipedia.org/wiki/Brabham, Brabham-Ford, British}, {brm, http://en.wikipedia.org/wiki/BRM, BRM, British}, {brp, http://en.wikipedia.org/wiki/British_Racing_Partnership, BRP, British}, {cooper-climax, http://en.wikipedia.org/wiki/Cooper_Car_Company, Cooper-Climax, British}, {derrington, http://en.wikipedia.org/wiki/Derrington-Francis, Derrington, British}, {ferrari, http://en.wikipedia.org/wiki/Scuderia_Ferrari, Ferrari, Italian}, {honda, http://en.wikipedia.org/wiki/Honda_Racing_F1, Honda, Japanese}, {lotus-brm, http://en.wikipedia.org/wiki/Team_Lotus, Lotus-BRM, British}, {lotus-climax, http://en.wikipedia.org/wiki/Team_Lotus, Lotus-Climax, British}, {porsche, http://en.wikipedia.org/wiki/Porsche_in_Formula_One, Porsche, German}, {scirocco, http://en.wikipedia.org/wiki/Scirocco-Powell, Scirocco, British}]                                                                                                                                                                                                                                                                                                                                                                                                                                                                                                                                                                                                                                                                                                                                                                                                                                                                                                                                                                                                                                                   |\n",
      "|1965  |[{alfa, http://en.wikipedia.org/wiki/Alfa_Romeo_in_Formula_One, Alfa Romeo, Swiss}, {brabham-brm, http://en.wikipedia.org/wiki/Brabham, Brabham-BRM, British}, {brabham-climax, http://en.wikipedia.org/wiki/Brabham, Brabham-Climax, British}, {brabham-ford, http://en.wikipedia.org/wiki/Brabham, Brabham-Ford, British}, {brm, http://en.wikipedia.org/wiki/BRM, BRM, British}, {cooper-climax, http://en.wikipedia.org/wiki/Cooper_Car_Company, Cooper-Climax, British}, {cooper-ford, http://en.wikipedia.org/wiki/Cooper_Car_Company, Cooper-Ford, British}, {cooper-maserati, http://en.wikipedia.org/wiki/Cooper_Car_Company, Cooper-Maserati, British}, {ferrari, http://en.wikipedia.org/wiki/Scuderia_Ferrari, Ferrari, Italian}, {honda, http://en.wikipedia.org/wiki/Honda_Racing_F1, Honda, Japanese}, {lds-alfa_romeo, http://en.wikipedia.org/wiki/LDS_(automobile), LDS-Alfa Romeo, South African}, {lds-climax, http://en.wikipedia.org/wiki/LDS_(automobile), LDS-Climax, South African}, {lotus-brm, http://en.wikipedia.org/wiki/Team_Lotus, Lotus-BRM, British}, {lotus-climax, http://en.wikipedia.org/wiki/Team_Lotus, Lotus-Climax, British}, {lotus-ford, http://en.wikipedia.org/wiki/Team_Lotus, Lotus-Ford, British}, {re, http://en.wikipedia.org/wiki/RE_%28automobile%29, RE, Rhodesian}]                                                                                                                                                                                                                                                                                                                                                                                                                                                                                                                                                                                                                                                                                                                                                                 |\n",
      "|1966  |[{brabham-brm, http://en.wikipedia.org/wiki/Brabham, Brabham-BRM, British}, {brabham-climax, http://en.wikipedia.org/wiki/Brabham, Brabham-Climax, British}, {brabham-repco, http://en.wikipedia.org/wiki/Brabham, Brabham-Repco, British}, {brm, http://en.wikipedia.org/wiki/BRM, BRM, British}, {cooper-ferrari, http://en.wikipedia.org/wiki/Cooper_Car_Company, Cooper-Ferrari, British}, {cooper-maserati, http://en.wikipedia.org/wiki/Cooper_Car_Company, Cooper-Maserati, British}, {eagle-climax, http://en.wikipedia.org/wiki/Anglo_American_Racers, Eagle-Climax, American}, {eagle-weslake, http://en.wikipedia.org/wiki/Anglo_American_Racers, Eagle-Weslake, American}, {ferrari, http://en.wikipedia.org/wiki/Scuderia_Ferrari, Ferrari, Italian}, {honda, http://en.wikipedia.org/wiki/Honda_Racing_F1, Honda, Japanese}, {lotus-brm, http://en.wikipedia.org/wiki/Team_Lotus, Lotus-BRM, British}, {lotus-climax, http://en.wikipedia.org/wiki/Team_Lotus, Lotus-Climax, British}, {mclaren-ford, http://en.wikipedia.org/wiki/Team_McLaren, McLaren-Ford, British}, {mclaren-seren, http://en.wikipedia.org/wiki/Team_McLaren, McLaren-Serenissima, British}, {shannon, http://en.wikipedia.org/wiki/Shannon_(Formula_One), Shannon, British}]                                                                                                                                                                                                                                                                                                                                                                                                                                                                                                                                                                                                                                                                                                                                                                                                                          |\n",
      "|1967  |[{brabham-climax, http://en.wikipedia.org/wiki/Brabham, Brabham-Climax, British}, {brabham-ford, http://en.wikipedia.org/wiki/Brabham, Brabham-Ford, British}, {brabham-repco, http://en.wikipedia.org/wiki/Brabham, Brabham-Repco, British}, {brm, http://en.wikipedia.org/wiki/BRM, BRM, British}, {cooper-ats, http://en.wikipedia.org/wiki/Cooper_Car_Company, Cooper-ATS, British}, {cooper-climax, http://en.wikipedia.org/wiki/Cooper_Car_Company, Cooper-Climax, British}, {cooper-maserati, http://en.wikipedia.org/wiki/Cooper_Car_Company, Cooper-Maserati, British}, {eagle-climax, http://en.wikipedia.org/wiki/Anglo_American_Racers, Eagle-Climax, American}, {eagle-weslake, http://en.wikipedia.org/wiki/Anglo_American_Racers, Eagle-Weslake, American}, {ferrari, http://en.wikipedia.org/wiki/Scuderia_Ferrari, Ferrari, Italian}, {honda, http://en.wikipedia.org/wiki/Honda_Racing_F1, Honda, Japanese}, {lds-climax, http://en.wikipedia.org/wiki/LDS_(automobile), LDS-Climax, South African}, {lola, http://en.wikipedia.org/wiki/MasterCard_Lola, Lola, British}, {lotus-brm, http://en.wikipedia.org/wiki/Team_Lotus, Lotus-BRM, British}, {lotus-climax, http://en.wikipedia.org/wiki/Team_Lotus, Lotus-Climax, British}, {lotus-ford, http://en.wikipedia.org/wiki/Team_Lotus, Lotus-Ford, British}, {matra, http://en.wikipedia.org/wiki/Matra, Matra, French}, {mclaren-brm, http://en.wikipedia.org/wiki/McLaren_(racing), McLaren-BRM, British}, {mclaren-ford, http://en.wikipedia.org/wiki/Team_McLaren, McLaren-Ford, British}, {protos, http://en.wikipedia.org/wiki/Protos_(constructor), Protos, British}]                                                                                                                                                                                                                                                                                                                                                                                                                                          |\n",
      "|1968  |[{brabham-climax, http://en.wikipedia.org/wiki/Brabham, Brabham-Climax, British}, {brabham-repco, http://en.wikipedia.org/wiki/Brabham, Brabham-Repco, British}, {brm, http://en.wikipedia.org/wiki/BRM, BRM, British}, {cooper-brm, http://en.wikipedia.org/wiki/Cooper_Car_Company, Cooper-BRM, British}, {cooper-climax, http://en.wikipedia.org/wiki/Cooper_Car_Company, Cooper-Climax, British}, {cooper-maserati, http://en.wikipedia.org/wiki/Cooper_Car_Company, Cooper-Maserati, British}, {eagle-weslake, http://en.wikipedia.org/wiki/Anglo_American_Racers, Eagle-Weslake, American}, {ferrari, http://en.wikipedia.org/wiki/Scuderia_Ferrari, Ferrari, Italian}, {honda, http://en.wikipedia.org/wiki/Honda_Racing_F1, Honda, Japanese}, {lds, http://en.wikipedia.org/wiki/LDS_(automobile), LDS, South African}, {lola, http://en.wikipedia.org/wiki/MasterCard_Lola, Lola, British}, {lotus-ford, http://en.wikipedia.org/wiki/Team_Lotus, Lotus-Ford, British}, {matra, http://en.wikipedia.org/wiki/Matra, Matra, French}, {matra-ford, http://en.wikipedia.org/wiki/Matra, Matra-Ford, French}, {mclaren, http://en.wikipedia.org/wiki/McLaren, McLaren, British}, {mclaren-brm, http://en.wikipedia.org/wiki/McLaren_(racing), McLaren-BRM, British}, {mclaren-ford, http://en.wikipedia.org/wiki/Team_McLaren, McLaren-Ford, British}]                                                                                                                                                                                                                                                                                                                                                                                                                                                                                                                                                                                                                                                                                                                                |\n",
      "|1969  |[{brabham-climax, http://en.wikipedia.org/wiki/Brabham, Brabham-Climax, British}, {brabham-ford, http://en.wikipedia.org/wiki/Brabham, Brabham-Ford, British}, {brabham-repco, http://en.wikipedia.org/wiki/Brabham, Brabham-Repco, British}, {brm, http://en.wikipedia.org/wiki/BRM, BRM, British}, {brm-ford, http://en.wikipedia.org/wiki/BRM, BRM-Ford, British}, {cooper-maserati, http://en.wikipedia.org/wiki/Cooper_Car_Company, Cooper-Maserati, British}, {eagle-climax, http://en.wikipedia.org/wiki/Anglo_American_Racers, Eagle-Climax, American}, {ferrari, http://en.wikipedia.org/wiki/Scuderia_Ferrari, Ferrari, Italian}, {lotus-ford, http://en.wikipedia.org/wiki/Team_Lotus, Lotus-Ford, British}, {matra-ford, http://en.wikipedia.org/wiki/Matra, Matra-Ford, French}, {mclaren-ford, http://en.wikipedia.org/wiki/Team_McLaren, McLaren-Ford, British}]                                                                                                                                                                                                                                                                                                                                                                                                                                                                                                                                                                                                                                                                                                                                                                                                                                                                                                                                                                                                                                                                                                                                                                                                            |\n",
      "+------+-------------------------------------------------------------------------------------------------------------------------------------------------------------------------------------------------------------------------------------------------------------------------------------------------------------------------------------------------------------------------------------------------------------------------------------------------------------------------------------------------------------------------------------------------------------------------------------------------------------------------------------------------------------------------------------------------------------------------------------------------------------------------------------------------------------------------------------------------------------------------------------------------------------------------------------------------------------------------------------------------------------------------------------------------------------------------------------------------------------------------------------------------------------------------------------------------------------------------------------------------------------------------------------------------------------------------------------------------------------------------------------------------------------------------------------------------------------------------------------------------------------------------------------------------------------------------------------------------------------------------------------------------------------------------------------------------------------------------------------------------------------------------------------------------------------------------------------------------------------------------------------------------------------------------------------------------------------------------------------------------------------------------------------------------------------------------------------------+\n",
      "only showing top 20 rows\n",
      "\n"
     ]
    }
   ],
   "source": [
    "constructors_df.printSchema()\n",
    "constructors_df.show(truncate=False)"
   ]
  },
  {
   "cell_type": "code",
   "execution_count": 6,
   "metadata": {},
   "outputs": [
    {
     "name": "stdout",
     "output_type": "stream",
     "text": [
      "+------+-----------------------------------------------------------------------------------+\n",
      "|season|Constructors                                                                       |\n",
      "+------+-----------------------------------------------------------------------------------+\n",
      "|1950  |{adams, http://en.wikipedia.org/wiki/Adams_(constructor), Adams, American}         |\n",
      "|1950  |{alfa, http://en.wikipedia.org/wiki/Alfa_Romeo_in_Formula_One, Alfa Romeo, Swiss}  |\n",
      "|1950  |{alta, http://en.wikipedia.org/wiki/Alta_auto_racing_team, Alta, British}          |\n",
      "|1950  |{cooper, http://en.wikipedia.org/wiki/Cooper_Car_Company, Cooper, British}         |\n",
      "|1950  |{deidt, http://en.wikipedia.org/wiki/Deidt, Deidt, American}                       |\n",
      "|1950  |{era, http://en.wikipedia.org/wiki/English_Racing_Automobiles, ERA, British}       |\n",
      "|1950  |{ewing, http://en.wikipedia.org/wiki/Ewing_(constructor), Ewing, American}         |\n",
      "|1950  |{ferrari, http://en.wikipedia.org/wiki/Scuderia_Ferrari, Ferrari, Italian}         |\n",
      "|1950  |{kurtis_kraft, http://en.wikipedia.org/wiki/Kurtis_Kraft, Kurtis Kraft, American}  |\n",
      "|1950  |{lago, http://en.wikipedia.org/wiki/Talbot-Lago, Talbot-Lago, French}              |\n",
      "|1950  |{langley, http://en.wikipedia.org/wiki/Langley_(constructor), Langley, American}   |\n",
      "|1950  |{lesovsky, http://en.wikipedia.org/wiki/Lesovsky, Lesovsky, American}              |\n",
      "|1950  |{marchese, http://en.wikipedia.org/wiki/Marchese_(constructor), Marchese, American}|\n",
      "|1950  |{maserati, http://en.wikipedia.org/wiki/Maserati, Maserati, Italian}               |\n",
      "|1950  |{milano, http://en.wikipedia.org/wiki/Scuderia_Milano, Milano, Italian}            |\n",
      "|1950  |{moore, http://en.wikipedia.org/wiki/Moore_(constructor), Moore, American}         |\n",
      "|1950  |{nichels, http://en.wikipedia.org/wiki/Nichels, Nichels, American}                 |\n",
      "|1950  |{olson, http://en.wikipedia.org/wiki/Olson_(constructor), Olson, American}         |\n",
      "|1950  |{rae, http://en.wikipedia.org/wiki/Rae_(motorsport), Rae, American}                |\n",
      "|1950  |{simca, http://en.wikipedia.org/wiki/Simca, Simca, French}                         |\n",
      "+------+-----------------------------------------------------------------------------------+\n",
      "only showing top 20 rows\n",
      "\n"
     ]
    }
   ],
   "source": [
    "constructors_exploded_df = constructors_df.select(col(\"season\").cast(IntegerType()).alias(\"season\"),\n",
    "                                        explode(\"Constructors\").alias(\"Constructors\")\n",
    "                                        )\n",
    "\n",
    "constructors_exploded_df.show(truncate=False)"
   ]
  },
  {
   "cell_type": "code",
   "execution_count": 7,
   "metadata": {},
   "outputs": [
    {
     "name": "stdout",
     "output_type": "stream",
     "text": [
      "+------+--------------+-------------------------------------------------------+----------------+-----------------------+\n",
      "|season|constructor_id|constructor_url                                        |constructor_name|constructor_nationality|\n",
      "+------+--------------+-------------------------------------------------------+----------------+-----------------------+\n",
      "|1950  |adams         |http://en.wikipedia.org/wiki/Adams_(constructor)       |Adams           |American               |\n",
      "|1950  |alfa          |http://en.wikipedia.org/wiki/Alfa_Romeo_in_Formula_One |Alfa Romeo      |Swiss                  |\n",
      "|1950  |alta          |http://en.wikipedia.org/wiki/Alta_auto_racing_team     |Alta            |British                |\n",
      "|1950  |cooper        |http://en.wikipedia.org/wiki/Cooper_Car_Company        |Cooper          |British                |\n",
      "|1950  |deidt         |http://en.wikipedia.org/wiki/Deidt                     |Deidt           |American               |\n",
      "|1950  |era           |http://en.wikipedia.org/wiki/English_Racing_Automobiles|ERA             |British                |\n",
      "|1950  |ewing         |http://en.wikipedia.org/wiki/Ewing_(constructor)       |Ewing           |American               |\n",
      "|1950  |ferrari       |http://en.wikipedia.org/wiki/Scuderia_Ferrari          |Ferrari         |Italian                |\n",
      "|1950  |kurtis_kraft  |http://en.wikipedia.org/wiki/Kurtis_Kraft              |Kurtis Kraft    |American               |\n",
      "|1950  |lago          |http://en.wikipedia.org/wiki/Talbot-Lago               |Talbot-Lago     |French                 |\n",
      "|1950  |langley       |http://en.wikipedia.org/wiki/Langley_(constructor)     |Langley         |American               |\n",
      "|1950  |lesovsky      |http://en.wikipedia.org/wiki/Lesovsky                  |Lesovsky        |American               |\n",
      "|1950  |marchese      |http://en.wikipedia.org/wiki/Marchese_(constructor)    |Marchese        |American               |\n",
      "|1950  |maserati      |http://en.wikipedia.org/wiki/Maserati                  |Maserati        |Italian                |\n",
      "|1950  |milano        |http://en.wikipedia.org/wiki/Scuderia_Milano           |Milano          |Italian                |\n",
      "|1950  |moore         |http://en.wikipedia.org/wiki/Moore_(constructor)       |Moore           |American               |\n",
      "|1950  |nichels       |http://en.wikipedia.org/wiki/Nichels                   |Nichels         |American               |\n",
      "|1950  |olson         |http://en.wikipedia.org/wiki/Olson_(constructor)       |Olson           |American               |\n",
      "|1950  |rae           |http://en.wikipedia.org/wiki/Rae_(motorsport)          |Rae             |American               |\n",
      "|1950  |simca         |http://en.wikipedia.org/wiki/Simca                     |Simca           |French                 |\n",
      "+------+--------------+-------------------------------------------------------+----------------+-----------------------+\n",
      "only showing top 20 rows\n",
      "\n"
     ]
    }
   ],
   "source": [
    "# Cast the columns\n",
    "constructors_cast_df = constructors_exploded_df.withColumn(\"constructor_id\", col(\"Constructors.constructorId\")) \\\n",
    "                                                .withColumn(\"constructor_url\", col(\"Constructors.url\")) \\\n",
    "                                                .withColumn(\"constructor_name\", col(\"Constructors.name\")) \\\n",
    "                                                .withColumn(\"constructor_nationality\", col(\"Constructors.nationality\")) \\\n",
    "                                                .drop(\"Constructors\")\n",
    "constructors_cast_df.show(truncate=False)"
   ]
  },
  {
   "cell_type": "code",
   "execution_count": 8,
   "metadata": {},
   "outputs": [
    {
     "name": "stdout",
     "output_type": "stream",
     "text": [
      "+------+--------------+----------------+-----------------------+\n",
      "|season|constructor_id|constructor_name|constructor_nationality|\n",
      "+------+--------------+----------------+-----------------------+\n",
      "|1950  |adams         |Adams           |American               |\n",
      "|1950  |alfa          |Alfa Romeo      |Swiss                  |\n",
      "|1950  |alta          |Alta            |British                |\n",
      "|1950  |cooper        |Cooper          |British                |\n",
      "|1950  |deidt         |Deidt           |American               |\n",
      "|1950  |era           |ERA             |British                |\n",
      "|1950  |ewing         |Ewing           |American               |\n",
      "|1950  |ferrari       |Ferrari         |Italian                |\n",
      "|1950  |kurtis_kraft  |Kurtis Kraft    |American               |\n",
      "|1950  |lago          |Talbot-Lago     |French                 |\n",
      "|1950  |langley       |Langley         |American               |\n",
      "|1950  |lesovsky      |Lesovsky        |American               |\n",
      "|1950  |marchese      |Marchese        |American               |\n",
      "|1950  |maserati      |Maserati        |Italian                |\n",
      "|1950  |milano        |Milano          |Italian                |\n",
      "|1950  |moore         |Moore           |American               |\n",
      "|1950  |nichels       |Nichels         |American               |\n",
      "|1950  |olson         |Olson           |American               |\n",
      "|1950  |rae           |Rae             |American               |\n",
      "|1950  |simca         |Simca           |French                 |\n",
      "+------+--------------+----------------+-----------------------+\n",
      "only showing top 20 rows\n",
      "\n"
     ]
    }
   ],
   "source": [
    "# Select the final columns\n",
    "constructors_final_df = constructors_cast_df.drop(col(\"constructor_url\"))\n",
    "constructors_final_df.show(truncate=False)"
   ]
  },
  {
   "cell_type": "code",
   "execution_count": 9,
   "metadata": {},
   "outputs": [
    {
     "name": "stdout",
     "output_type": "stream",
     "text": [
      "root\n",
      " |-- season: integer (nullable = true)\n",
      " |-- constructor_id: string (nullable = true)\n",
      " |-- constructor_name: string (nullable = true)\n",
      " |-- constructor_nationality: string (nullable = true)\n",
      "\n"
     ]
    }
   ],
   "source": [
    "constructors_final_df.printSchema()"
   ]
  },
  {
   "cell_type": "code",
   "execution_count": 10,
   "metadata": {},
   "outputs": [],
   "source": [
    "constructors_final_df.write.mode(\"overwrite\").format(\"parquet\").save(\"gs://f1-gcp/processed/constructors/\")"
   ]
  },
  {
   "cell_type": "code",
   "execution_count": 11,
   "metadata": {},
   "outputs": [
    {
     "name": "stdout",
     "output_type": "stream",
     "text": [
      "+------+--------------+----------------+-----------------------+\n",
      "|season|constructor_id|constructor_name|constructor_nationality|\n",
      "+------+--------------+----------------+-----------------------+\n",
      "|  1950|         adams|           Adams|               American|\n",
      "|  1950|          alfa|      Alfa Romeo|                  Swiss|\n",
      "|  1950|          alta|            Alta|                British|\n",
      "|  1950|        cooper|          Cooper|                British|\n",
      "|  1950|         deidt|           Deidt|               American|\n",
      "|  1950|           era|             ERA|                British|\n",
      "|  1950|         ewing|           Ewing|               American|\n",
      "|  1950|       ferrari|         Ferrari|                Italian|\n",
      "|  1950|  kurtis_kraft|    Kurtis Kraft|               American|\n",
      "|  1950|          lago|     Talbot-Lago|                 French|\n",
      "|  1950|       langley|         Langley|               American|\n",
      "|  1950|      lesovsky|        Lesovsky|               American|\n",
      "|  1950|      marchese|        Marchese|               American|\n",
      "|  1950|      maserati|        Maserati|                Italian|\n",
      "|  1950|        milano|          Milano|                Italian|\n",
      "|  1950|         moore|           Moore|               American|\n",
      "|  1950|       nichels|         Nichels|               American|\n",
      "|  1950|         olson|           Olson|               American|\n",
      "|  1950|           rae|             Rae|               American|\n",
      "|  1950|         simca|           Simca|                 French|\n",
      "+------+--------------+----------------+-----------------------+\n",
      "only showing top 20 rows\n",
      "\n"
     ]
    }
   ],
   "source": [
    "spark.read.parquet(\"gs://f1-gcp/processed/constructors/\").show()"
   ]
  },
  {
   "cell_type": "code",
   "execution_count": 12,
   "metadata": {},
   "outputs": [],
   "source": [
    "spark.stop()"
   ]
  }
 ],
 "metadata": {
  "kernelspec": {
   "display_name": "venv",
   "language": "python",
   "name": "python3"
  },
  "language_info": {
   "codemirror_mode": {
    "name": "ipython",
    "version": 3
   },
   "file_extension": ".py",
   "mimetype": "text/x-python",
   "name": "python",
   "nbconvert_exporter": "python",
   "pygments_lexer": "ipython3",
   "version": "3.12.8"
  }
 },
 "nbformat": 4,
 "nbformat_minor": 2
}
