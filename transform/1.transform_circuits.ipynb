{
 "cells": [
  {
   "cell_type": "code",
   "execution_count": null,
   "metadata": {},
   "outputs": [],
   "source": [
    "from pyspark.sql import SparkSession\n",
    "from pyspark.sql.functions import col, lit, current_timestamp\n",
    "from pyspark.sql.types import StructType, StructField, IntegerType, StringType, DoubleType\n",
    "\n",
    "spark = SparkSession.builder \\\n",
    "    .appName(\"F1 Data Pipeline\") \\\n",
    "    .config(\"spark.ui.port\", \"4040\") \\\n",
    "    .config(\"spark.jars\", \"file:///C:/spark/spark-3.5.1-bin-hadoop3/jars/gcs-connector-hadoop3-latest.jar\") \\\n",
    "    .getOrCreate()\n",
    "\n",
    "# Set GCS authentication and filesystem implementation\n",
    "spark.conf.set(\"spark.hadoop.fs.gs.impl\", \"com.google.cloud.hadoop.fs.gcs.GoogleHadoopFileSystem\")\n",
    "spark.conf.set(\"spark.hadoop.fs.AbstractFileSystem.gs.impl\", \"com.google.cloud.hadoop.fs.gcs.GoogleHadoopFS\")\n",
    "spark.conf.set(\"google.cloud.auth.service.account.enable\", \"true\")\n",
    "spark.conf.set(\"google.cloud.auth.service.account.json.keyfile\", \"C:/Users/ACER SWIFT X/Desktop/Projects/F1/f1-de-gcp-7735b3a7392e.json\")\n"
   ]
  },
  {
   "cell_type": "code",
   "execution_count": 2,
   "metadata": {},
   "outputs": [],
   "source": [
    "# Define the schema for the nested \"Location\" field\n",
    "location_schema = StructType(fields=[StructField(\"lat\", StringType(), True),\n",
    "                                     StructField(\"long\", StringType(), True),\n",
    "                                     StructField(\"locality\", StringType(), True),\n",
    "                                     StructField(\"country\", StringType(), True)\n",
    "])\n",
    "\n",
    "circuits_schema = StructType(fields=[StructField(\"circuitId\", StringType(), False),\n",
    "                                     StructField(\"circuitName\", StringType(), True),\n",
    "                                     StructField(\"Location\", location_schema),  # Nested schema\n",
    "                                     StructField(\"url\", StringType(), True)\n",
    "\n",
    "])"
   ]
  },
  {
   "cell_type": "code",
   "execution_count": 4,
   "metadata": {},
   "outputs": [
    {
     "name": "stdout",
     "output_type": "stream",
     "text": [
      "+------------+--------------------+--------------------+--------------------+\n",
      "|   circuitId|         circuitName|            Location|                 url|\n",
      "+------------+--------------------+--------------------+--------------------+\n",
      "|    adelaide|Adelaide Street C...|{-34.9272, 138.61...|https://en.wikipe...|\n",
      "|    ain-diab|            Ain Diab|{33.5786, -7.6875...|https://en.wikipe...|\n",
      "|     aintree|             Aintree|{53.4769, -2.9405...|https://en.wikipe...|\n",
      "| albert_park|Albert Park Grand...|{-37.8497, 144.96...|https://en.wikipe...|\n",
      "|    americas|Circuit of the Am...|{30.1328, -97.641...|https://en.wikipe...|\n",
      "|  anderstorp|Scandinavian Raceway|{57.2652999999999...|https://en.wikipe...|\n",
      "|        avus|                AVUS|{52.4806, 13.2514...|https://en.wikipe...|\n",
      "|     bahrain|Bahrain Internati...|{26.0325, 50.5106...|https://en.wikipe...|\n",
      "|        baku|   Baku City Circuit|{40.3725, 49.8533...|https://en.wikipe...|\n",
      "|    boavista|Circuito da Boavista|{41.1705, -8.6732...|https://en.wikipe...|\n",
      "|brands_hatch|        Brands Hatch|{51.3569, 0.26305...|https://en.wikipe...|\n",
      "|  bremgarten|  Circuit Bremgarten|{46.9589, 7.40194...|https://en.wikipe...|\n",
      "|       buddh|Buddh Internation...|{28.3487, 77.5331...|https://en.wikipe...|\n",
      "|   catalunya|Circuit de Barcel...|{41.57, 2.26111, ...|https://en.wikipe...|\n",
      "|     charade|     Charade Circuit|{45.7471999999999...|https://en.wikipe...|\n",
      "|      dallas|           Fair Park|{32.7774, -96.758...|https://en.wikipe...|\n",
      "|     detroit|Detroit Street Ci...|{42.3298, -83.040...|https://en.wikipe...|\n",
      "|       dijon|       Dijon-Prenois|{47.3625, 4.89913...|https://en.wikipe...|\n",
      "|   donington|      Donington Park|{52.8306, -1.3752...|https://en.wikipe...|\n",
      "|     essarts|   Rouen-Les-Essarts|{49.3306, 1.00458...|https://en.wikipe...|\n",
      "+------------+--------------------+--------------------+--------------------+\n",
      "only showing top 20 rows\n",
      "\n"
     ]
    }
   ],
   "source": [
    "circuits_df = spark.read \\\n",
    ".schema(circuits_schema) \\\n",
    ".option(\"multiLine\", True) \\\n",
    ".json(\"gs://f1-gcp/raw/circuits.json\")\n",
    "circuits_df.show()"
   ]
  },
  {
   "cell_type": "code",
   "execution_count": 5,
   "metadata": {},
   "outputs": [
    {
     "name": "stdout",
     "output_type": "stream",
     "text": [
      "+------------+------------------------------+------------------------------------------------------------+------------------+---------+----------------+-----------+\n",
      "|circuitId   |circuitName                   |url                                                         |latitude          |longitude|locality        |country    |\n",
      "+------------+------------------------------+------------------------------------------------------------+------------------+---------+----------------+-----------+\n",
      "|adelaide    |Adelaide Street Circuit       |https://en.wikipedia.org/wiki/Adelaide_Street_Circuit       |-34.9272          |138.617  |Adelaide        |Australia  |\n",
      "|ain-diab    |Ain Diab                      |https://en.wikipedia.org/wiki/Ain-Diab_Circuit              |33.5786           |-7.6875  |Casablanca      |Morocco    |\n",
      "|aintree     |Aintree                       |https://en.wikipedia.org/wiki/Aintree_Motor_Racing_Circuit  |53.4769           |-2.94056 |Liverpool       |UK         |\n",
      "|albert_park |Albert Park Grand Prix Circuit|https://en.wikipedia.org/wiki/Albert_Park_Circuit           |-37.8497          |144.968  |Melbourne       |Australia  |\n",
      "|americas    |Circuit of the Americas       |https://en.wikipedia.org/wiki/Circuit_of_the_Americas       |30.1328           |-97.6411 |Austin          |USA        |\n",
      "|anderstorp  |Scandinavian Raceway          |https://en.wikipedia.org/wiki/Anderstorp_Raceway            |57.265299999999975|13.6042  |Anderstorp      |Sweden     |\n",
      "|avus        |AVUS                          |https://en.wikipedia.org/wiki/AVUS                          |52.4806           |13.2514  |Berlin          |Germany    |\n",
      "|bahrain     |Bahrain International Circuit |https://en.wikipedia.org/wiki/Bahrain_International_Circuit |26.0325           |50.5106  |Sakhir          |Bahrain    |\n",
      "|baku        |Baku City Circuit             |https://en.wikipedia.org/wiki/Baku_City_Circuit             |40.3725           |49.8533  |Baku            |Azerbaijan |\n",
      "|boavista    |Circuito da Boavista          |https://en.wikipedia.org/wiki/Circuito_da_Boavista          |41.1705           |-8.67325 |Oporto          |Portugal   |\n",
      "|brands_hatch|Brands Hatch                  |https://en.wikipedia.org/wiki/Brands_Hatch                  |51.3569           |0.263056 |Kent            |UK         |\n",
      "|bremgarten  |Circuit Bremgarten            |https://en.wikipedia.org/wiki/Circuit_Bremgarten            |46.9589           |7.40194  |Bern            |Switzerland|\n",
      "|buddh       |Buddh International Circuit   |https://en.wikipedia.org/wiki/Buddh_International_Circuit   |28.3487           |77.5331  |Uttar Pradesh   |India      |\n",
      "|catalunya   |Circuit de Barcelona-Catalunya|https://en.wikipedia.org/wiki/Circuit_de_Barcelona-Catalunya|41.57             |2.26111  |Montmeló        |Spain      |\n",
      "|charade     |Charade Circuit               |https://en.wikipedia.org/wiki/Circuit_de_Charade            |45.747199999999985|3.03889  |Clermont-Ferrand|France     |\n",
      "|dallas      |Fair Park                     |https://en.wikipedia.org/wiki/Fair_Park                     |32.7774           |-96.7587 |Dallas          |USA        |\n",
      "|detroit     |Detroit Street Circuit        |https://en.wikipedia.org/wiki/Detroit_street_circuit        |42.3298           |-83.0401 |Detroit         |USA        |\n",
      "|dijon       |Dijon-Prenois                 |https://en.wikipedia.org/wiki/Dijon-Prenois                 |47.3625           |4.89913  |Dijon           |France     |\n",
      "|donington   |Donington Park                |https://en.wikipedia.org/wiki/Donington_Park                |52.8306           |-1.37528 |Castle Donington|UK         |\n",
      "|essarts     |Rouen-Les-Essarts             |https://en.wikipedia.org/wiki/Rouen-Les-Essarts             |49.3306           |1.00458  |Rouen           |France     |\n",
      "+------------+------------------------------+------------------------------------------------------------+------------------+---------+----------------+-----------+\n",
      "only showing top 20 rows\n",
      "\n"
     ]
    }
   ],
   "source": [
    "# Cast the columns\n",
    "circuits_cast_df = circuits_df.withColumn(\"latitude\", col(\"Location.lat\").cast(DoubleType())) \\\n",
    "    .withColumn(\"longitude\", col(\"Location.long\").cast(DoubleType())) \\\n",
    "    .withColumn(\"locality\", col(\"Location.locality\")) \\\n",
    "    .withColumn(\"country\", col(\"Location.country\")) \\\n",
    "    .drop(\"Location\")\n",
    "circuits_cast_df.show(truncate=False)"
   ]
  },
  {
   "cell_type": "code",
   "execution_count": 6,
   "metadata": {},
   "outputs": [
    {
     "name": "stdout",
     "output_type": "stream",
     "text": [
      "+------------+------------------------------+------------------------------------------------------------+------------------+---------+----------------+-----------+\n",
      "|circuit_id  |circuit_name                  |url                                                         |latitude          |longitude|locality        |country    |\n",
      "+------------+------------------------------+------------------------------------------------------------+------------------+---------+----------------+-----------+\n",
      "|adelaide    |Adelaide Street Circuit       |https://en.wikipedia.org/wiki/Adelaide_Street_Circuit       |-34.9272          |138.617  |Adelaide        |Australia  |\n",
      "|ain-diab    |Ain Diab                      |https://en.wikipedia.org/wiki/Ain-Diab_Circuit              |33.5786           |-7.6875  |Casablanca      |Morocco    |\n",
      "|aintree     |Aintree                       |https://en.wikipedia.org/wiki/Aintree_Motor_Racing_Circuit  |53.4769           |-2.94056 |Liverpool       |UK         |\n",
      "|albert_park |Albert Park Grand Prix Circuit|https://en.wikipedia.org/wiki/Albert_Park_Circuit           |-37.8497          |144.968  |Melbourne       |Australia  |\n",
      "|americas    |Circuit of the Americas       |https://en.wikipedia.org/wiki/Circuit_of_the_Americas       |30.1328           |-97.6411 |Austin          |USA        |\n",
      "|anderstorp  |Scandinavian Raceway          |https://en.wikipedia.org/wiki/Anderstorp_Raceway            |57.265299999999975|13.6042  |Anderstorp      |Sweden     |\n",
      "|avus        |AVUS                          |https://en.wikipedia.org/wiki/AVUS                          |52.4806           |13.2514  |Berlin          |Germany    |\n",
      "|bahrain     |Bahrain International Circuit |https://en.wikipedia.org/wiki/Bahrain_International_Circuit |26.0325           |50.5106  |Sakhir          |Bahrain    |\n",
      "|baku        |Baku City Circuit             |https://en.wikipedia.org/wiki/Baku_City_Circuit             |40.3725           |49.8533  |Baku            |Azerbaijan |\n",
      "|boavista    |Circuito da Boavista          |https://en.wikipedia.org/wiki/Circuito_da_Boavista          |41.1705           |-8.67325 |Oporto          |Portugal   |\n",
      "|brands_hatch|Brands Hatch                  |https://en.wikipedia.org/wiki/Brands_Hatch                  |51.3569           |0.263056 |Kent            |UK         |\n",
      "|bremgarten  |Circuit Bremgarten            |https://en.wikipedia.org/wiki/Circuit_Bremgarten            |46.9589           |7.40194  |Bern            |Switzerland|\n",
      "|buddh       |Buddh International Circuit   |https://en.wikipedia.org/wiki/Buddh_International_Circuit   |28.3487           |77.5331  |Uttar Pradesh   |India      |\n",
      "|catalunya   |Circuit de Barcelona-Catalunya|https://en.wikipedia.org/wiki/Circuit_de_Barcelona-Catalunya|41.57             |2.26111  |Montmeló        |Spain      |\n",
      "|charade     |Charade Circuit               |https://en.wikipedia.org/wiki/Circuit_de_Charade            |45.747199999999985|3.03889  |Clermont-Ferrand|France     |\n",
      "|dallas      |Fair Park                     |https://en.wikipedia.org/wiki/Fair_Park                     |32.7774           |-96.7587 |Dallas          |USA        |\n",
      "|detroit     |Detroit Street Circuit        |https://en.wikipedia.org/wiki/Detroit_street_circuit        |42.3298           |-83.0401 |Detroit         |USA        |\n",
      "|dijon       |Dijon-Prenois                 |https://en.wikipedia.org/wiki/Dijon-Prenois                 |47.3625           |4.89913  |Dijon           |France     |\n",
      "|donington   |Donington Park                |https://en.wikipedia.org/wiki/Donington_Park                |52.8306           |-1.37528 |Castle Donington|UK         |\n",
      "|essarts     |Rouen-Les-Essarts             |https://en.wikipedia.org/wiki/Rouen-Les-Essarts             |49.3306           |1.00458  |Rouen           |France     |\n",
      "+------------+------------------------------+------------------------------------------------------------+------------------+---------+----------------+-----------+\n",
      "only showing top 20 rows\n",
      "\n"
     ]
    }
   ],
   "source": [
    "# Rename columns\n",
    "circuits_renamed_df = circuits_cast_df.withColumnRenamed(\"circuitId\", \"circuit_id\")\\\n",
    "                                .withColumnRenamed(\"circuitName\", \"circuit_name\")\\\n",
    "    \n",
    "circuits_renamed_df.show(truncate=False)"
   ]
  },
  {
   "cell_type": "code",
   "execution_count": 8,
   "metadata": {},
   "outputs": [
    {
     "name": "stdout",
     "output_type": "stream",
     "text": [
      "+------------+------------------------------+-----------+----------------+------------------+---------+\n",
      "|circuit_id  |circuit_name                  |country    |locality        |latitude          |longitude|\n",
      "+------------+------------------------------+-----------+----------------+------------------+---------+\n",
      "|adelaide    |Adelaide Street Circuit       |Australia  |Adelaide        |-34.9272          |138.617  |\n",
      "|ain-diab    |Ain Diab                      |Morocco    |Casablanca      |33.5786           |-7.6875  |\n",
      "|aintree     |Aintree                       |UK         |Liverpool       |53.4769           |-2.94056 |\n",
      "|albert_park |Albert Park Grand Prix Circuit|Australia  |Melbourne       |-37.8497          |144.968  |\n",
      "|americas    |Circuit of the Americas       |USA        |Austin          |30.1328           |-97.6411 |\n",
      "|anderstorp  |Scandinavian Raceway          |Sweden     |Anderstorp      |57.265299999999975|13.6042  |\n",
      "|avus        |AVUS                          |Germany    |Berlin          |52.4806           |13.2514  |\n",
      "|bahrain     |Bahrain International Circuit |Bahrain    |Sakhir          |26.0325           |50.5106  |\n",
      "|baku        |Baku City Circuit             |Azerbaijan |Baku            |40.3725           |49.8533  |\n",
      "|boavista    |Circuito da Boavista          |Portugal   |Oporto          |41.1705           |-8.67325 |\n",
      "|brands_hatch|Brands Hatch                  |UK         |Kent            |51.3569           |0.263056 |\n",
      "|bremgarten  |Circuit Bremgarten            |Switzerland|Bern            |46.9589           |7.40194  |\n",
      "|buddh       |Buddh International Circuit   |India      |Uttar Pradesh   |28.3487           |77.5331  |\n",
      "|catalunya   |Circuit de Barcelona-Catalunya|Spain      |Montmeló        |41.57             |2.26111  |\n",
      "|charade     |Charade Circuit               |France     |Clermont-Ferrand|45.747199999999985|3.03889  |\n",
      "|dallas      |Fair Park                     |USA        |Dallas          |32.7774           |-96.7587 |\n",
      "|detroit     |Detroit Street Circuit        |USA        |Detroit         |42.3298           |-83.0401 |\n",
      "|dijon       |Dijon-Prenois                 |France     |Dijon           |47.3625           |4.89913  |\n",
      "|donington   |Donington Park                |UK         |Castle Donington|52.8306           |-1.37528 |\n",
      "|essarts     |Rouen-Les-Essarts             |France     |Rouen           |49.3306           |1.00458  |\n",
      "+------------+------------------------------+-----------+----------------+------------------+---------+\n",
      "only showing top 20 rows\n",
      "\n"
     ]
    }
   ],
   "source": [
    "# Select the final columns\n",
    "circuits_final_df = circuits_renamed_df.select(col(\"circuit_id\"), col(\"circuit_name\"), col(\"country\"), col(\"locality\"), col(\"latitude\"), col(\"longitude\"))\n",
    "circuits_final_df.show(truncate=False)"
   ]
  },
  {
   "cell_type": "code",
   "execution_count": 9,
   "metadata": {},
   "outputs": [
    {
     "name": "stdout",
     "output_type": "stream",
     "text": [
      "root\n",
      " |-- circuit_id: string (nullable = true)\n",
      " |-- circuit_name: string (nullable = true)\n",
      " |-- country: string (nullable = true)\n",
      " |-- locality: string (nullable = true)\n",
      " |-- latitude: double (nullable = true)\n",
      " |-- longitude: double (nullable = true)\n",
      "\n"
     ]
    }
   ],
   "source": [
    "circuits_final_df.printSchema()"
   ]
  },
  {
   "cell_type": "code",
   "execution_count": 10,
   "metadata": {},
   "outputs": [],
   "source": [
    "circuits_final_df.write.mode(\"overwrite\").parquet(\"gs://f1-gcp/processed/circuits/\")"
   ]
  },
  {
   "cell_type": "code",
   "execution_count": 12,
   "metadata": {},
   "outputs": [
    {
     "name": "stdout",
     "output_type": "stream",
     "text": [
      "+------------+--------------------+-----------+----------------+------------------+---------+\n",
      "|  circuit_id|        circuit_name|    country|        locality|          latitude|longitude|\n",
      "+------------+--------------------+-----------+----------------+------------------+---------+\n",
      "|    adelaide|Adelaide Street C...|  Australia|        Adelaide|          -34.9272|  138.617|\n",
      "|    ain-diab|            Ain Diab|    Morocco|      Casablanca|           33.5786|  -7.6875|\n",
      "|     aintree|             Aintree|         UK|       Liverpool|           53.4769| -2.94056|\n",
      "| albert_park|Albert Park Grand...|  Australia|       Melbourne|          -37.8497|  144.968|\n",
      "|    americas|Circuit of the Am...|        USA|          Austin|           30.1328| -97.6411|\n",
      "|  anderstorp|Scandinavian Raceway|     Sweden|      Anderstorp|57.265299999999975|  13.6042|\n",
      "|        avus|                AVUS|    Germany|          Berlin|           52.4806|  13.2514|\n",
      "|     bahrain|Bahrain Internati...|    Bahrain|          Sakhir|           26.0325|  50.5106|\n",
      "|        baku|   Baku City Circuit| Azerbaijan|            Baku|           40.3725|  49.8533|\n",
      "|    boavista|Circuito da Boavista|   Portugal|          Oporto|           41.1705| -8.67325|\n",
      "|brands_hatch|        Brands Hatch|         UK|            Kent|           51.3569| 0.263056|\n",
      "|  bremgarten|  Circuit Bremgarten|Switzerland|            Bern|           46.9589|  7.40194|\n",
      "|       buddh|Buddh Internation...|      India|   Uttar Pradesh|           28.3487|  77.5331|\n",
      "|   catalunya|Circuit de Barcel...|      Spain|        Montmeló|             41.57|  2.26111|\n",
      "|     charade|     Charade Circuit|     France|Clermont-Ferrand|45.747199999999985|  3.03889|\n",
      "|      dallas|           Fair Park|        USA|          Dallas|           32.7774| -96.7587|\n",
      "|     detroit|Detroit Street Ci...|        USA|         Detroit|           42.3298| -83.0401|\n",
      "|       dijon|       Dijon-Prenois|     France|           Dijon|           47.3625|  4.89913|\n",
      "|   donington|      Donington Park|         UK|Castle Donington|           52.8306| -1.37528|\n",
      "|     essarts|   Rouen-Les-Essarts|     France|           Rouen|           49.3306|  1.00458|\n",
      "+------------+--------------------+-----------+----------------+------------------+---------+\n",
      "only showing top 20 rows\n",
      "\n"
     ]
    }
   ],
   "source": [
    "spark.read.parquet(\"gs://f1-gcp/processed/circuits/\").show()"
   ]
  },
  {
   "cell_type": "code",
   "execution_count": 13,
   "metadata": {},
   "outputs": [],
   "source": [
    "spark.stop()"
   ]
  }
 ],
 "metadata": {
  "kernelspec": {
   "display_name": "venv",
   "language": "python",
   "name": "python3"
  },
  "language_info": {
   "codemirror_mode": {
    "name": "ipython",
    "version": 3
   },
   "file_extension": ".py",
   "mimetype": "text/x-python",
   "name": "python",
   "nbconvert_exporter": "python",
   "pygments_lexer": "ipython3",
   "version": "3.12.8"
  }
 },
 "nbformat": 4,
 "nbformat_minor": 2
}
