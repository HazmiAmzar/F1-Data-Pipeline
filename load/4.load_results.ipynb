{
 "cells": [
  {
   "cell_type": "code",
   "execution_count": 1,
   "metadata": {},
   "outputs": [],
   "source": [
    "from google.cloud import bigquery"
   ]
  },
  {
   "cell_type": "code",
   "execution_count": 2,
   "metadata": {},
   "outputs": [],
   "source": [
    "client = bigquery.Client()"
   ]
  },
  {
   "cell_type": "code",
   "execution_count": 3,
   "metadata": {},
   "outputs": [],
   "source": [
    "project_id = 'f1-de-gcp'"
   ]
  },
  {
   "cell_type": "code",
   "execution_count": 4,
   "metadata": {},
   "outputs": [],
   "source": [
    "table_id = f\"{project_id}.f1.fct_race_results\""
   ]
  },
  {
   "cell_type": "code",
   "execution_count": 5,
   "metadata": {},
   "outputs": [
    {
     "name": "stdout",
     "output_type": "stream",
     "text": [
      "gs://f1-gcp/processed/results/\n",
      "gs://f1-gcp/processed/results/_SUCCESS\n",
      "gs://f1-gcp/processed/results/part-00000-7269e86c-76e7-4ee6-8093-113a4b199d84-c000.snappy.parquet\n"
     ]
    }
   ],
   "source": [
    "!gsutil ls gs://f1-gcp/processed/results/"
   ]
  },
  {
   "cell_type": "code",
   "execution_count": 6,
   "metadata": {},
   "outputs": [],
   "source": [
    "job_config = bigquery.LoadJobConfig(source_format = \"PARQUET\", autodetect = True, write_disposition = \"WRITE_TRUNCATE\")"
   ]
  },
  {
   "cell_type": "code",
   "execution_count": 7,
   "metadata": {},
   "outputs": [
    {
     "name": "stdout",
     "output_type": "stream",
     "text": [
      "✅ Table f1-de-gcp.f1.fct_race_results created successfully.\n"
     ]
    }
   ],
   "source": [
    "uri = \"gs://f1-gcp/processed/results/part-00000-7269e86c-76e7-4ee6-8093-113a4b199d84-c000.snappy.parquet\"\n",
    "load_job = client.load_table_from_uri(\n",
    "    uri, table_id, job_config=job_config\n",
    ")  # Make an API request.\n",
    "\n",
    "load_job.result()  # Wait for the job to complete.\n",
    "print(f\"✅ Table {table_id} created successfully.\")"
   ]
  },
  {
   "cell_type": "code",
   "execution_count": 8,
   "metadata": {},
   "outputs": [
    {
     "name": "stdout",
     "output_type": "stream",
     "text": [
      "Loaded 26759 rows to table f1-de-gcp.f1.fct_race_results\n"
     ]
    }
   ],
   "source": [
    "table = client.get_table(table_id)\n",
    "print(\"Loaded {} rows to table {}\".format(table.num_rows, table_id))"
   ]
  },
  {
   "cell_type": "code",
   "execution_count": 9,
   "metadata": {},
   "outputs": [
    {
     "name": "stdout",
     "output_type": "stream",
     "text": [
      "(1950, 1, 'British Grand Prix', 'silverstone', 'alfa', 'farina', 2, 1, '1', 9, 1, 70, 'Finished', 8003600, '2:13:23.600', datetime.date(1950, 5, 13))\n",
      "(1950, 1, 'British Grand Prix', 'silverstone', 'alfa', 'fagioli', 3, 2, '2', 6, 2, 70, 'Finished', 8006200, '+2.600', datetime.date(1950, 5, 13))\n",
      "(1950, 1, 'British Grand Prix', 'silverstone', 'alfa', 'reg_parnell', 4, 3, '3', 4, 4, 70, 'Finished', 8055600, '+52.000', datetime.date(1950, 5, 13))\n",
      "(1950, 1, 'British Grand Prix', 'silverstone', 'lago', 'cabantous', 14, 4, '4', 3, 6, 68, '+2 Laps', None, None, datetime.date(1950, 5, 13))\n",
      "(1950, 1, 'British Grand Prix', 'silverstone', 'lago', 'rosier', 15, 5, '5', 2, 9, 68, '+2 Laps', None, None, datetime.date(1950, 5, 13))\n",
      "(1950, 1, 'British Grand Prix', 'silverstone', 'era', 'gerard', 12, 6, '6', 0, 13, 67, '+3 Laps', None, None, datetime.date(1950, 5, 13))\n",
      "(1950, 1, 'British Grand Prix', 'silverstone', 'era', 'harrison', 11, 7, '7', 0, 15, 67, '+3 Laps', None, None, datetime.date(1950, 5, 13))\n",
      "(1950, 1, 'British Grand Prix', 'silverstone', 'lago', 'etancelin', 16, 8, '8', 0, 14, 65, '+5 Laps', None, None, datetime.date(1950, 5, 13))\n",
      "(1950, 1, 'British Grand Prix', 'silverstone', 'maserati', 'hampshire', 6, 9, '9', 0, 16, 64, '+6 Laps', None, None, datetime.date(1950, 5, 13))\n",
      "(1950, 1, 'British Grand Prix', 'silverstone', 'maserati', 'fry', 10, 10, '10', 0, 20, 64, '+6 Laps', None, None, datetime.date(1950, 5, 13))\n"
     ]
    }
   ],
   "source": [
    "# Perform a query.\n",
    "QUERY = (\n",
    "    f'''SELECT * FROM `{project_id}.f1.fct_results` LIMIT 10'''\n",
    ")\n",
    "query_job = client.query(QUERY)  # API request\n",
    "rows = query_job.result()  # Waits for query to finish\n",
    "\n",
    "for row in rows:\n",
    "    print(row.values())"
   ]
  }
 ],
 "metadata": {
  "kernelspec": {
   "display_name": "venv",
   "language": "python",
   "name": "python3"
  },
  "language_info": {
   "codemirror_mode": {
    "name": "ipython",
    "version": 3
   },
   "file_extension": ".py",
   "mimetype": "text/x-python",
   "name": "python",
   "nbconvert_exporter": "python",
   "pygments_lexer": "ipython3",
   "version": "3.12.8"
  }
 },
 "nbformat": 4,
 "nbformat_minor": 2
}
